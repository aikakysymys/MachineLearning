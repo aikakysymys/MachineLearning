{
 "cells": [
  {
   "cell_type": "markdown",
   "metadata": {},
   "source": [
    "Работу выполнили: Энзе Гонг и Катричева Надежда"
   ]
  },
  {
   "cell_type": "markdown",
   "metadata": {},
   "source": [
    "## 1. Подготовка данных"
   ]
  },
  {
   "cell_type": "code",
   "execution_count": 1,
   "metadata": {},
   "outputs": [],
   "source": [
    "import pandas as pd\n",
    "import csv"
   ]
  },
  {
   "cell_type": "markdown",
   "metadata": {},
   "source": [
    "Open train, change NaN for 0."
   ]
  },
  {
   "cell_type": "code",
   "execution_count": 2,
   "metadata": {},
   "outputs": [
    {
     "data": {
      "text/plain": [
       "16406"
      ]
     },
     "execution_count": 2,
     "metadata": {},
     "output_type": "execute_result"
    }
   ],
   "source": [
    "train = pd.read_csv('train.csv',sep = '\\t', quoting=csv.QUOTE_NONE,encoding='utf-8').fillna(0)\n",
    "len(train)"
   ]
  },
  {
   "cell_type": "code",
   "execution_count": 3,
   "metadata": {},
   "outputs": [
    {
     "data": {
      "text/html": [
       "<div>\n",
       "<style scoped>\n",
       "    .dataframe tbody tr th:only-of-type {\n",
       "        vertical-align: middle;\n",
       "    }\n",
       "\n",
       "    .dataframe tbody tr th {\n",
       "        vertical-align: top;\n",
       "    }\n",
       "\n",
       "    .dataframe thead th {\n",
       "        text-align: right;\n",
       "    }\n",
       "</style>\n",
       "<table border=\"1\" class=\"dataframe\">\n",
       "  <thead>\n",
       "    <tr style=\"text-align: right;\">\n",
       "      <th></th>\n",
       "      <th>text</th>\n",
       "      <th>class</th>\n",
       "      <th>cV</th>\n",
       "      <th>cR1</th>\n",
       "      <th>cR2</th>\n",
       "      <th>V</th>\n",
       "      <th>R1</th>\n",
       "      <th>R2</th>\n",
       "    </tr>\n",
       "  </thead>\n",
       "  <tbody>\n",
       "    <tr>\n",
       "      <th>0</th>\n",
       "      <td>Будучи в прошлый четверг в Софии, он назвал се...</td>\n",
       "      <td>0</td>\n",
       "      <td>0</td>\n",
       "      <td>0</td>\n",
       "      <td>0</td>\n",
       "      <td>0</td>\n",
       "      <td>0</td>\n",
       "      <td>0</td>\n",
       "    </tr>\n",
       "    <tr>\n",
       "      <th>1</th>\n",
       "      <td>Работа с двухбайтовыми наборами символов — про...</td>\n",
       "      <td>1</td>\n",
       "      <td>92:99</td>\n",
       "      <td>83:91</td>\n",
       "      <td>103:109</td>\n",
       "      <td>127:127</td>\n",
       "      <td>119:124</td>\n",
       "      <td>127:134</td>\n",
       "    </tr>\n",
       "    <tr>\n",
       "      <th>2</th>\n",
       "      <td>Заместитель Генерального секретаря подчеркнул,...</td>\n",
       "      <td>0</td>\n",
       "      <td>0</td>\n",
       "      <td>0</td>\n",
       "      <td>0</td>\n",
       "      <td>0</td>\n",
       "      <td>0</td>\n",
       "      <td>0</td>\n",
       "    </tr>\n",
       "    <tr>\n",
       "      <th>3</th>\n",
       "      <td>Продажа недвижимости из собственных портфелей ...</td>\n",
       "      <td>0</td>\n",
       "      <td>0</td>\n",
       "      <td>0</td>\n",
       "      <td>0</td>\n",
       "      <td>0</td>\n",
       "      <td>0</td>\n",
       "      <td>0</td>\n",
       "    </tr>\n",
       "    <tr>\n",
       "      <th>4</th>\n",
       "      <td>Новым является то, что повышенное давление кон...</td>\n",
       "      <td>0</td>\n",
       "      <td>0</td>\n",
       "      <td>0</td>\n",
       "      <td>0</td>\n",
       "      <td>0</td>\n",
       "      <td>0</td>\n",
       "      <td>0</td>\n",
       "    </tr>\n",
       "  </tbody>\n",
       "</table>\n",
       "</div>"
      ],
      "text/plain": [
       "                                                text  class     cV    cR1  \\\n",
       "0  Будучи в прошлый четверг в Софии, он назвал се...      0      0      0   \n",
       "1  Работа с двухбайтовыми наборами символов — про...      1  92:99  83:91   \n",
       "2  Заместитель Генерального секретаря подчеркнул,...      0      0      0   \n",
       "3  Продажа недвижимости из собственных портфелей ...      0      0      0   \n",
       "4  Новым является то, что повышенное давление кон...      0      0      0   \n",
       "\n",
       "       cR2        V       R1       R2  \n",
       "0        0        0        0        0  \n",
       "1  103:109  127:127  119:124  127:134  \n",
       "2        0        0        0        0  \n",
       "3        0        0        0        0  \n",
       "4        0        0        0        0  "
      ]
     },
     "execution_count": 3,
     "metadata": {},
     "output_type": "execute_result"
    }
   ],
   "source": [
    "train.head()"
   ]
  },
  {
   "cell_type": "markdown",
   "metadata": {},
   "source": [
    "The class-named column hinders using some pandas methods, so let's change the column name."
   ]
  },
  {
   "cell_type": "code",
   "execution_count": 13,
   "metadata": {},
   "outputs": [
    {
     "data": {
      "text/html": [
       "<div>\n",
       "<style scoped>\n",
       "    .dataframe tbody tr th:only-of-type {\n",
       "        vertical-align: middle;\n",
       "    }\n",
       "\n",
       "    .dataframe tbody tr th {\n",
       "        vertical-align: top;\n",
       "    }\n",
       "\n",
       "    .dataframe thead th {\n",
       "        text-align: right;\n",
       "    }\n",
       "</style>\n",
       "<table border=\"1\" class=\"dataframe\">\n",
       "  <thead>\n",
       "    <tr style=\"text-align: right;\">\n",
       "      <th></th>\n",
       "      <th>text</th>\n",
       "      <th>class_</th>\n",
       "      <th>cV</th>\n",
       "      <th>cR1</th>\n",
       "      <th>cR2</th>\n",
       "      <th>V</th>\n",
       "      <th>R1</th>\n",
       "      <th>R2</th>\n",
       "    </tr>\n",
       "  </thead>\n",
       "  <tbody>\n",
       "    <tr>\n",
       "      <th>0</th>\n",
       "      <td>Будучи в прошлый четверг в Софии, он назвал се...</td>\n",
       "      <td>0</td>\n",
       "      <td>0</td>\n",
       "      <td>0</td>\n",
       "      <td>0</td>\n",
       "      <td>0</td>\n",
       "      <td>0</td>\n",
       "      <td>0</td>\n",
       "    </tr>\n",
       "    <tr>\n",
       "      <th>1</th>\n",
       "      <td>Работа с двухбайтовыми наборами символов — про...</td>\n",
       "      <td>1</td>\n",
       "      <td>92:99</td>\n",
       "      <td>83:91</td>\n",
       "      <td>103:109</td>\n",
       "      <td>127:127</td>\n",
       "      <td>119:124</td>\n",
       "      <td>127:134</td>\n",
       "    </tr>\n",
       "    <tr>\n",
       "      <th>2</th>\n",
       "      <td>Заместитель Генерального секретаря подчеркнул,...</td>\n",
       "      <td>0</td>\n",
       "      <td>0</td>\n",
       "      <td>0</td>\n",
       "      <td>0</td>\n",
       "      <td>0</td>\n",
       "      <td>0</td>\n",
       "      <td>0</td>\n",
       "    </tr>\n",
       "    <tr>\n",
       "      <th>3</th>\n",
       "      <td>Продажа недвижимости из собственных портфелей ...</td>\n",
       "      <td>0</td>\n",
       "      <td>0</td>\n",
       "      <td>0</td>\n",
       "      <td>0</td>\n",
       "      <td>0</td>\n",
       "      <td>0</td>\n",
       "      <td>0</td>\n",
       "    </tr>\n",
       "    <tr>\n",
       "      <th>4</th>\n",
       "      <td>Новым является то, что повышенное давление кон...</td>\n",
       "      <td>0</td>\n",
       "      <td>0</td>\n",
       "      <td>0</td>\n",
       "      <td>0</td>\n",
       "      <td>0</td>\n",
       "      <td>0</td>\n",
       "      <td>0</td>\n",
       "    </tr>\n",
       "  </tbody>\n",
       "</table>\n",
       "</div>"
      ],
      "text/plain": [
       "                                                text  class_     cV    cR1  \\\n",
       "0  Будучи в прошлый четверг в Софии, он назвал се...       0      0      0   \n",
       "1  Работа с двухбайтовыми наборами символов — про...       1  92:99  83:91   \n",
       "2  Заместитель Генерального секретаря подчеркнул,...       0      0      0   \n",
       "3  Продажа недвижимости из собственных портфелей ...       0      0      0   \n",
       "4  Новым является то, что повышенное давление кон...       0      0      0   \n",
       "\n",
       "       cR2        V       R1       R2  \n",
       "0        0        0        0        0  \n",
       "1  103:109  127:127  119:124  127:134  \n",
       "2        0        0        0        0  \n",
       "3        0        0        0        0  \n",
       "4        0        0        0        0  "
      ]
     },
     "execution_count": 13,
     "metadata": {},
     "output_type": "execute_result"
    }
   ],
   "source": [
    "train.rename(index=str, columns={\"class\": \"class_\"}, inplace=True,) # inplace=True means the df is really changed\n",
    "train.head()"
   ]
  },
  {
   "cell_type": "markdown",
   "metadata": {},
   "source": [
    "Classes 0 and 1 in train.csv"
   ]
  },
  {
   "cell_type": "code",
   "execution_count": 7,
   "metadata": {},
   "outputs": [
    {
     "data": {
      "text/plain": [
       "10864"
      ]
     },
     "execution_count": 7,
     "metadata": {},
     "output_type": "execute_result"
    }
   ],
   "source": [
    "train.query('class_ == \"0\"').class_.count() #same (train.class_ == 0).sum()"
   ]
  },
  {
   "cell_type": "code",
   "execution_count": 8,
   "metadata": {},
   "outputs": [
    {
     "data": {
      "text/plain": [
       "5542"
      ]
     },
     "execution_count": 8,
     "metadata": {},
     "output_type": "execute_result"
    }
   ],
   "source": [
    "train.query('class_ == \"1\"').class_.count() #same (train.class_ == 1).sum()"
   ]
  },
  {
   "cell_type": "markdown",
   "metadata": {},
   "source": [
    "Classes 0 and 1 in dev.csv"
   ]
  },
  {
   "cell_type": "code",
   "execution_count": 10,
   "metadata": {},
   "outputs": [
    {
     "data": {
      "text/plain": [
       "2760"
      ]
     },
     "execution_count": 10,
     "metadata": {},
     "output_type": "execute_result"
    }
   ],
   "source": [
    "dev = pd.read_csv('dev.csv',sep = '\\t', quoting=csv.QUOTE_NONE).fillna(0)\n",
    "\n",
    "dev.rename(index=str, columns={\"class\": \"class_\"}, inplace=True,)\n",
    "#dev.head()\n",
    "(dev.class_ == 0).sum()"
   ]
  },
  {
   "cell_type": "code",
   "execution_count": 11,
   "metadata": {},
   "outputs": [
    {
     "data": {
      "text/plain": [
       "1382"
      ]
     },
     "execution_count": 11,
     "metadata": {},
     "output_type": "execute_result"
    }
   ],
   "source": [
    "(dev.class_ == 1).sum()"
   ]
  },
  {
   "cell_type": "markdown",
   "metadata": {},
   "source": [
    "Classes 0 and 1 in test.csv"
   ]
  },
  {
   "cell_type": "code",
   "execution_count": 76,
   "metadata": {},
   "outputs": [
    {
     "data": {
      "text/plain": [
       "1365"
      ]
     },
     "execution_count": 76,
     "metadata": {},
     "output_type": "execute_result"
    }
   ],
   "source": [
    "test = pd.read_csv('test.csv',sep = '\\t', quoting=csv.QUOTE_NONE).fillna(0)\n",
    "\n",
    "test.rename(index=str, columns={\"class\": \"class_\"}, inplace=True,)\n",
    "#test.head()\n",
    "(test.class_ == 0).sum()"
   ]
  },
  {
   "cell_type": "code",
   "execution_count": 95,
   "metadata": {},
   "outputs": [
    {
     "data": {
      "text/plain": [
       "680"
      ]
     },
     "execution_count": 95,
     "metadata": {},
     "output_type": "execute_result"
    }
   ],
   "source": [
    "(test.class_ == 1).sum()"
   ]
  },
  {
   "cell_type": "markdown",
   "metadata": {},
   "source": [
    "## 2. Анализ разметки"
   ]
  },
  {
   "cell_type": "code",
   "execution_count": 14,
   "metadata": {},
   "outputs": [
    {
     "data": {
      "text/html": [
       "<div>\n",
       "<style scoped>\n",
       "    .dataframe tbody tr th:only-of-type {\n",
       "        vertical-align: middle;\n",
       "    }\n",
       "\n",
       "    .dataframe tbody tr th {\n",
       "        vertical-align: top;\n",
       "    }\n",
       "\n",
       "    .dataframe thead th {\n",
       "        text-align: right;\n",
       "    }\n",
       "</style>\n",
       "<table border=\"1\" class=\"dataframe\">\n",
       "  <thead>\n",
       "    <tr style=\"text-align: right;\">\n",
       "      <th></th>\n",
       "      <th>cV</th>\n",
       "      <th>cR1</th>\n",
       "      <th>cR2</th>\n",
       "      <th>V</th>\n",
       "      <th>R1</th>\n",
       "      <th>R2</th>\n",
       "    </tr>\n",
       "  </thead>\n",
       "  <tbody>\n",
       "    <tr>\n",
       "      <th>0</th>\n",
       "      <td>0</td>\n",
       "      <td>0</td>\n",
       "      <td>0</td>\n",
       "      <td>0</td>\n",
       "      <td>0</td>\n",
       "      <td>0</td>\n",
       "    </tr>\n",
       "    <tr>\n",
       "      <th>1</th>\n",
       "      <td>92:99</td>\n",
       "      <td>83:91</td>\n",
       "      <td>103:109</td>\n",
       "      <td>127:127</td>\n",
       "      <td>119:124</td>\n",
       "      <td>127:134</td>\n",
       "    </tr>\n",
       "    <tr>\n",
       "      <th>2</th>\n",
       "      <td>0</td>\n",
       "      <td>0</td>\n",
       "      <td>0</td>\n",
       "      <td>0</td>\n",
       "      <td>0</td>\n",
       "      <td>0</td>\n",
       "    </tr>\n",
       "    <tr>\n",
       "      <th>3</th>\n",
       "      <td>0</td>\n",
       "      <td>0</td>\n",
       "      <td>0</td>\n",
       "      <td>0</td>\n",
       "      <td>0</td>\n",
       "      <td>0</td>\n",
       "    </tr>\n",
       "    <tr>\n",
       "      <th>4</th>\n",
       "      <td>0</td>\n",
       "      <td>0</td>\n",
       "      <td>0</td>\n",
       "      <td>0</td>\n",
       "      <td>0</td>\n",
       "      <td>0</td>\n",
       "    </tr>\n",
       "  </tbody>\n",
       "</table>\n",
       "</div>"
      ],
      "text/plain": [
       "      cV    cR1      cR2        V       R1       R2\n",
       "0      0      0        0        0        0        0\n",
       "1  92:99  83:91  103:109  127:127  119:124  127:134\n",
       "2      0      0        0        0        0        0\n",
       "3      0      0        0        0        0        0\n",
       "4      0      0        0        0        0        0"
      ]
     },
     "execution_count": 14,
     "metadata": {},
     "output_type": "execute_result"
    }
   ],
   "source": [
    "\"\"\"We could view only class 1, but it's not necessary\"\"\"\n",
    "#markup = train.loc[train['class_'] == 1]\n",
    "#markup.head()\n",
    "\n",
    "\"\"\"Drop what's not the ellipsis offset markup cells\"\"\" \n",
    "stat_train = train.drop(['text', 'class_'], axis=1)\n",
    "\n",
    "stat_train.head()"
   ]
  },
  {
   "cell_type": "code",
   "execution_count": 15,
   "metadata": {},
   "outputs": [
    {
     "data": {
      "text/html": [
       "<div>\n",
       "<style scoped>\n",
       "    .dataframe tbody tr th:only-of-type {\n",
       "        vertical-align: middle;\n",
       "    }\n",
       "\n",
       "    .dataframe tbody tr th {\n",
       "        vertical-align: top;\n",
       "    }\n",
       "\n",
       "    .dataframe thead th {\n",
       "        text-align: right;\n",
       "    }\n",
       "</style>\n",
       "<table border=\"1\" class=\"dataframe\">\n",
       "  <thead>\n",
       "    <tr style=\"text-align: right;\">\n",
       "      <th></th>\n",
       "      <th>cV</th>\n",
       "      <th>cR1</th>\n",
       "      <th>cR2</th>\n",
       "      <th>V</th>\n",
       "      <th>R1</th>\n",
       "      <th>R2</th>\n",
       "    </tr>\n",
       "  </thead>\n",
       "  <tbody>\n",
       "    <tr>\n",
       "      <th>0</th>\n",
       "      <td>0</td>\n",
       "      <td>0</td>\n",
       "      <td>0</td>\n",
       "      <td>0</td>\n",
       "      <td>0</td>\n",
       "      <td>0</td>\n",
       "    </tr>\n",
       "    <tr>\n",
       "      <th>1</th>\n",
       "      <td>1</td>\n",
       "      <td>1</td>\n",
       "      <td>1</td>\n",
       "      <td>1</td>\n",
       "      <td>1</td>\n",
       "      <td>1</td>\n",
       "    </tr>\n",
       "    <tr>\n",
       "      <th>2</th>\n",
       "      <td>0</td>\n",
       "      <td>0</td>\n",
       "      <td>0</td>\n",
       "      <td>0</td>\n",
       "      <td>0</td>\n",
       "      <td>0</td>\n",
       "    </tr>\n",
       "    <tr>\n",
       "      <th>3</th>\n",
       "      <td>0</td>\n",
       "      <td>0</td>\n",
       "      <td>0</td>\n",
       "      <td>0</td>\n",
       "      <td>0</td>\n",
       "      <td>0</td>\n",
       "    </tr>\n",
       "    <tr>\n",
       "      <th>4</th>\n",
       "      <td>0</td>\n",
       "      <td>0</td>\n",
       "      <td>0</td>\n",
       "      <td>0</td>\n",
       "      <td>0</td>\n",
       "      <td>0</td>\n",
       "    </tr>\n",
       "  </tbody>\n",
       "</table>\n",
       "</div>"
      ],
      "text/plain": [
       "   cV  cR1  cR2  V  R1  R2\n",
       "0   0    0    0  0   0   0\n",
       "1   1    1    1  1   1   1\n",
       "2   0    0    0  0   0   0\n",
       "3   0    0    0  0   0   0\n",
       "4   0    0    0  0   0   0"
      ]
     },
     "execution_count": 15,
     "metadata": {},
     "output_type": "execute_result"
    }
   ],
   "source": [
    "\"\"\"Change offsets for the number of offsets in a cess\"\"\"\n",
    "\n",
    "labels = ['cV', 'cR1', 'cR2', 'V', 'R1', 'R2']\n",
    "\n",
    "for i in stat_train.index:\n",
    "    for label in labels:\n",
    "        if stat_train.loc[i, label] != 0:\n",
    "            stat_train.loc[i, label] = len((stat_train.loc[i, label]).split()) # offsets are split by spaces \n",
    "\n",
    "stat_train.head()"
   ]
  },
  {
   "cell_type": "code",
   "execution_count": 16,
   "metadata": {},
   "outputs": [
    {
     "data": {
      "text/html": [
       "<div>\n",
       "<style scoped>\n",
       "    .dataframe tbody tr th:only-of-type {\n",
       "        vertical-align: middle;\n",
       "    }\n",
       "\n",
       "    .dataframe tbody tr th {\n",
       "        vertical-align: top;\n",
       "    }\n",
       "\n",
       "    .dataframe thead th {\n",
       "        text-align: right;\n",
       "    }\n",
       "</style>\n",
       "<table border=\"1\" class=\"dataframe\">\n",
       "  <thead>\n",
       "    <tr style=\"text-align: right;\">\n",
       "      <th></th>\n",
       "      <th>cV</th>\n",
       "      <th>cR1</th>\n",
       "      <th>cR2</th>\n",
       "      <th>V</th>\n",
       "      <th>R1</th>\n",
       "      <th>R2</th>\n",
       "    </tr>\n",
       "  </thead>\n",
       "  <tbody>\n",
       "    <tr>\n",
       "      <th>0</th>\n",
       "      <td>0</td>\n",
       "      <td>0</td>\n",
       "      <td>0</td>\n",
       "      <td>0</td>\n",
       "      <td>0</td>\n",
       "      <td>0</td>\n",
       "    </tr>\n",
       "    <tr>\n",
       "      <th>1</th>\n",
       "      <td>1</td>\n",
       "      <td>1</td>\n",
       "      <td>1</td>\n",
       "      <td>1</td>\n",
       "      <td>1</td>\n",
       "      <td>1</td>\n",
       "    </tr>\n",
       "    <tr>\n",
       "      <th>14</th>\n",
       "      <td>1</td>\n",
       "      <td>1</td>\n",
       "      <td>0</td>\n",
       "      <td>1</td>\n",
       "      <td>1</td>\n",
       "      <td>0</td>\n",
       "    </tr>\n",
       "    <tr>\n",
       "      <th>117</th>\n",
       "      <td>1</td>\n",
       "      <td>1</td>\n",
       "      <td>1</td>\n",
       "      <td>2</td>\n",
       "      <td>2</td>\n",
       "      <td>2</td>\n",
       "    </tr>\n",
       "    <tr>\n",
       "      <th>211</th>\n",
       "      <td>1</td>\n",
       "      <td>1</td>\n",
       "      <td>1</td>\n",
       "      <td>3</td>\n",
       "      <td>3</td>\n",
       "      <td>3</td>\n",
       "    </tr>\n",
       "    <tr>\n",
       "      <th>2285</th>\n",
       "      <td>1</td>\n",
       "      <td>1</td>\n",
       "      <td>1</td>\n",
       "      <td>4</td>\n",
       "      <td>4</td>\n",
       "      <td>4</td>\n",
       "    </tr>\n",
       "    <tr>\n",
       "      <th>5902</th>\n",
       "      <td>1</td>\n",
       "      <td>1</td>\n",
       "      <td>1</td>\n",
       "      <td>5</td>\n",
       "      <td>5</td>\n",
       "      <td>5</td>\n",
       "    </tr>\n",
       "    <tr>\n",
       "      <th>8104</th>\n",
       "      <td>1</td>\n",
       "      <td>0</td>\n",
       "      <td>1</td>\n",
       "      <td>1</td>\n",
       "      <td>1</td>\n",
       "      <td>1</td>\n",
       "    </tr>\n",
       "  </tbody>\n",
       "</table>\n",
       "</div>"
      ],
      "text/plain": [
       "      cV  cR1  cR2  V  R1  R2\n",
       "0      0    0    0  0   0   0\n",
       "1      1    1    1  1   1   1\n",
       "14     1    1    0  1   1   0\n",
       "117    1    1    1  2   2   2\n",
       "211    1    1    1  3   3   3\n",
       "2285   1    1    1  4   4   4\n",
       "5902   1    1    1  5   5   5\n",
       "8104   1    0    1  1   1   1"
      ]
     },
     "execution_count": 16,
     "metadata": {},
     "output_type": "execute_result"
    }
   ],
   "source": [
    "\"\"\"To see the unique rows\"\"\"\n",
    "stat_train.drop_duplicates()"
   ]
  },
  {
   "cell_type": "markdown",
   "metadata": {},
   "source": [
    "We can see that there are 8 different configurations in test.\n",
    "\n",
    "\n",
    "To see the numbers of sentences of such configurations we'll use groupby, numbers on the right."
   ]
  },
  {
   "cell_type": "code",
   "execution_count": 25,
   "metadata": {},
   "outputs": [
    {
     "data": {
      "text/plain": [
       "cV  cR1  cR2  V  R1  R2\n",
       "0   0    0    0  0   0     10864\n",
       "1   0    1    1  1   1         1\n",
       "    1    0    1  1   0        77\n",
       "         1    1  1   1      5095\n",
       "              2  2   2       315\n",
       "              3  3   3        45\n",
       "              4  4   4         7\n",
       "              5  5   5         2\n",
       "dtype: int64"
      ]
     },
     "execution_count": 25,
     "metadata": {},
     "output_type": "execute_result"
    }
   ],
   "source": [
    "stat_train.groupby(stat_train.columns.tolist(),as_index=False).size()"
   ]
  },
  {
   "cell_type": "markdown",
   "metadata": {},
   "source": [
    "Do the same to the other datasets.\n",
    "\n",
    "\n",
    "Dev"
   ]
  },
  {
   "cell_type": "code",
   "execution_count": 33,
   "metadata": {},
   "outputs": [
    {
     "data": {
      "text/html": [
       "<div>\n",
       "<style scoped>\n",
       "    .dataframe tbody tr th:only-of-type {\n",
       "        vertical-align: middle;\n",
       "    }\n",
       "\n",
       "    .dataframe tbody tr th {\n",
       "        vertical-align: top;\n",
       "    }\n",
       "\n",
       "    .dataframe thead th {\n",
       "        text-align: right;\n",
       "    }\n",
       "</style>\n",
       "<table border=\"1\" class=\"dataframe\">\n",
       "  <thead>\n",
       "    <tr style=\"text-align: right;\">\n",
       "      <th></th>\n",
       "      <th>cV</th>\n",
       "      <th>cR1</th>\n",
       "      <th>cR2</th>\n",
       "      <th>V</th>\n",
       "      <th>R1</th>\n",
       "      <th>R2</th>\n",
       "    </tr>\n",
       "  </thead>\n",
       "  <tbody>\n",
       "    <tr>\n",
       "      <th>0</th>\n",
       "      <td>0</td>\n",
       "      <td>0</td>\n",
       "      <td>0</td>\n",
       "      <td>0</td>\n",
       "      <td>0</td>\n",
       "      <td>0</td>\n",
       "    </tr>\n",
       "    <tr>\n",
       "      <th>1</th>\n",
       "      <td>1</td>\n",
       "      <td>1</td>\n",
       "      <td>1</td>\n",
       "      <td>1</td>\n",
       "      <td>1</td>\n",
       "      <td>1</td>\n",
       "    </tr>\n",
       "    <tr>\n",
       "      <th>61</th>\n",
       "      <td>1</td>\n",
       "      <td>1</td>\n",
       "      <td>1</td>\n",
       "      <td>2</td>\n",
       "      <td>2</td>\n",
       "      <td>2</td>\n",
       "    </tr>\n",
       "    <tr>\n",
       "      <th>297</th>\n",
       "      <td>1</td>\n",
       "      <td>1</td>\n",
       "      <td>0</td>\n",
       "      <td>1</td>\n",
       "      <td>1</td>\n",
       "      <td>0</td>\n",
       "    </tr>\n",
       "    <tr>\n",
       "      <th>355</th>\n",
       "      <td>1</td>\n",
       "      <td>1</td>\n",
       "      <td>1</td>\n",
       "      <td>3</td>\n",
       "      <td>3</td>\n",
       "      <td>3</td>\n",
       "    </tr>\n",
       "    <tr>\n",
       "      <th>888</th>\n",
       "      <td>1</td>\n",
       "      <td>1</td>\n",
       "      <td>1</td>\n",
       "      <td>7</td>\n",
       "      <td>7</td>\n",
       "      <td>7</td>\n",
       "    </tr>\n",
       "    <tr>\n",
       "      <th>938</th>\n",
       "      <td>1</td>\n",
       "      <td>1</td>\n",
       "      <td>1</td>\n",
       "      <td>4</td>\n",
       "      <td>4</td>\n",
       "      <td>4</td>\n",
       "    </tr>\n",
       "  </tbody>\n",
       "</table>\n",
       "</div>"
      ],
      "text/plain": [
       "     cV  cR1  cR2  V  R1  R2\n",
       "0     0    0    0  0   0   0\n",
       "1     1    1    1  1   1   1\n",
       "61    1    1    1  2   2   2\n",
       "297   1    1    0  1   1   0\n",
       "355   1    1    1  3   3   3\n",
       "888   1    1    1  7   7   7\n",
       "938   1    1    1  4   4   4"
      ]
     },
     "execution_count": 33,
     "metadata": {},
     "output_type": "execute_result"
    }
   ],
   "source": [
    "stat_dev = dev.drop(['text', 'class_'], axis=1)\n",
    "\n",
    "labels = ['cV', 'cR1', 'cR2', 'V', 'R1', 'R2']\n",
    "\n",
    "for i in stat_dev.index:\n",
    "    for label in labels:\n",
    "        if stat_dev.loc[i, label] != 0:\n",
    "            stat_dev.loc[i, label] = len((stat_dev.loc[i, label]).split())\n",
    "\n",
    "stat_dev.drop_duplicates()"
   ]
  },
  {
   "cell_type": "markdown",
   "metadata": {},
   "source": [
    "7 different cases in dev, with such ststistics:"
   ]
  },
  {
   "cell_type": "code",
   "execution_count": 26,
   "metadata": {},
   "outputs": [
    {
     "data": {
      "text/plain": [
       "cV  cR1  cR2  V  R1  R2\n",
       "0   0    0    0  0   0     2760\n",
       "1   1    0    1  1   0       27\n",
       "         1    1  1   1     1265\n",
       "              2  2   2       73\n",
       "              3  3   3        9\n",
       "              4  4   4        7\n",
       "              7  7   7        1\n",
       "dtype: int64"
      ]
     },
     "execution_count": 26,
     "metadata": {},
     "output_type": "execute_result"
    }
   ],
   "source": [
    "stat_dev.groupby(stat_dev.columns.tolist(),as_index=False).size()"
   ]
  },
  {
   "cell_type": "markdown",
   "metadata": {},
   "source": [
    "Test"
   ]
  },
  {
   "cell_type": "code",
   "execution_count": 31,
   "metadata": {},
   "outputs": [
    {
     "data": {
      "text/html": [
       "<div>\n",
       "<style scoped>\n",
       "    .dataframe tbody tr th:only-of-type {\n",
       "        vertical-align: middle;\n",
       "    }\n",
       "\n",
       "    .dataframe tbody tr th {\n",
       "        vertical-align: top;\n",
       "    }\n",
       "\n",
       "    .dataframe thead th {\n",
       "        text-align: right;\n",
       "    }\n",
       "</style>\n",
       "<table border=\"1\" class=\"dataframe\">\n",
       "  <thead>\n",
       "    <tr style=\"text-align: right;\">\n",
       "      <th></th>\n",
       "      <th>cV</th>\n",
       "      <th>cR1</th>\n",
       "      <th>cR2</th>\n",
       "      <th>V</th>\n",
       "      <th>R1</th>\n",
       "      <th>R2</th>\n",
       "    </tr>\n",
       "  </thead>\n",
       "  <tbody>\n",
       "    <tr>\n",
       "      <th>0</th>\n",
       "      <td>0</td>\n",
       "      <td>0</td>\n",
       "      <td>0</td>\n",
       "      <td>0</td>\n",
       "      <td>0</td>\n",
       "      <td>0</td>\n",
       "    </tr>\n",
       "    <tr>\n",
       "      <th>1</th>\n",
       "      <td>1</td>\n",
       "      <td>1</td>\n",
       "      <td>1</td>\n",
       "      <td>1</td>\n",
       "      <td>1</td>\n",
       "      <td>1</td>\n",
       "    </tr>\n",
       "    <tr>\n",
       "      <th>23</th>\n",
       "      <td>1</td>\n",
       "      <td>1</td>\n",
       "      <td>1</td>\n",
       "      <td>2</td>\n",
       "      <td>2</td>\n",
       "      <td>2</td>\n",
       "    </tr>\n",
       "    <tr>\n",
       "      <th>254</th>\n",
       "      <td>1</td>\n",
       "      <td>1</td>\n",
       "      <td>0</td>\n",
       "      <td>1</td>\n",
       "      <td>1</td>\n",
       "      <td>0</td>\n",
       "    </tr>\n",
       "    <tr>\n",
       "      <th>600</th>\n",
       "      <td>1</td>\n",
       "      <td>1</td>\n",
       "      <td>1</td>\n",
       "      <td>5</td>\n",
       "      <td>5</td>\n",
       "      <td>5</td>\n",
       "    </tr>\n",
       "    <tr>\n",
       "      <th>758</th>\n",
       "      <td>1</td>\n",
       "      <td>1</td>\n",
       "      <td>1</td>\n",
       "      <td>3</td>\n",
       "      <td>3</td>\n",
       "      <td>3</td>\n",
       "    </tr>\n",
       "    <tr>\n",
       "      <th>1115</th>\n",
       "      <td>1</td>\n",
       "      <td>1</td>\n",
       "      <td>1</td>\n",
       "      <td>4</td>\n",
       "      <td>4</td>\n",
       "      <td>4</td>\n",
       "    </tr>\n",
       "    <tr>\n",
       "      <th>1696</th>\n",
       "      <td>1</td>\n",
       "      <td>1</td>\n",
       "      <td>0</td>\n",
       "      <td>2</td>\n",
       "      <td>2</td>\n",
       "      <td>0</td>\n",
       "    </tr>\n",
       "  </tbody>\n",
       "</table>\n",
       "</div>"
      ],
      "text/plain": [
       "      cV  cR1  cR2  V  R1  R2\n",
       "0      0    0    0  0   0   0\n",
       "1      1    1    1  1   1   1\n",
       "23     1    1    1  2   2   2\n",
       "254    1    1    0  1   1   0\n",
       "600    1    1    1  5   5   5\n",
       "758    1    1    1  3   3   3\n",
       "1115   1    1    1  4   4   4\n",
       "1696   1    1    0  2   2   0"
      ]
     },
     "execution_count": 31,
     "metadata": {},
     "output_type": "execute_result"
    }
   ],
   "source": [
    "stat_test = test.drop(['text', 'class_'], axis=1)\n",
    "\n",
    "labels = ['cV', 'cR1', 'cR2', 'V', 'R1', 'R2']\n",
    "\n",
    "for i in stat_test.index:\n",
    "    for label in labels:\n",
    "        if stat_test.loc[i, label] != 0:\n",
    "            stat_test.loc[i, label] = len((stat_test.loc[i, label]).split())\n",
    "\n",
    "stat_test.drop_duplicates()"
   ]
  },
  {
   "cell_type": "markdown",
   "metadata": {},
   "source": [
    "8 different cases in dev, with such ststistics:"
   ]
  },
  {
   "cell_type": "code",
   "execution_count": 30,
   "metadata": {},
   "outputs": [
    {
     "data": {
      "text/plain": [
       "cV  cR1  cR2  V  R1  R2\n",
       "0   0    0    0  0   0     1365\n",
       "1   1    0    1  1   0       16\n",
       "              2  2   0        1\n",
       "         1    1  1   1      616\n",
       "              2  2   2       42\n",
       "              3  3   3        3\n",
       "              4  4   4        1\n",
       "              5  5   5        1\n",
       "dtype: int64"
      ]
     },
     "execution_count": 30,
     "metadata": {},
     "output_type": "execute_result"
    }
   ],
   "source": [
    "stat_test.groupby(stat_test.columns.tolist(),as_index=False).size()"
   ]
  },
  {
   "cell_type": "markdown",
   "metadata": {},
   "source": [
    "# 3. Конвертер разметки-1"
   ]
  },
  {
   "cell_type": "code",
   "execution_count": 233,
   "metadata": {},
   "outputs": [],
   "source": [
    "class_1 = train.loc[train['class_'] == 1] #The rows with gapping"
   ]
  },
  {
   "cell_type": "code",
   "execution_count": 53,
   "metadata": {},
   "outputs": [
    {
     "data": {
      "text/html": [
       "<div>\n",
       "<style scoped>\n",
       "    .dataframe tbody tr th:only-of-type {\n",
       "        vertical-align: middle;\n",
       "    }\n",
       "\n",
       "    .dataframe tbody tr th {\n",
       "        vertical-align: top;\n",
       "    }\n",
       "\n",
       "    .dataframe thead th {\n",
       "        text-align: right;\n",
       "    }\n",
       "</style>\n",
       "<table border=\"1\" class=\"dataframe\">\n",
       "  <thead>\n",
       "    <tr style=\"text-align: right;\">\n",
       "      <th></th>\n",
       "      <th>text</th>\n",
       "      <th>class_</th>\n",
       "      <th>cV</th>\n",
       "      <th>cR1</th>\n",
       "      <th>cR2</th>\n",
       "      <th>V</th>\n",
       "      <th>R1</th>\n",
       "      <th>R2</th>\n",
       "    </tr>\n",
       "  </thead>\n",
       "  <tbody>\n",
       "    <tr>\n",
       "      <th>1</th>\n",
       "      <td>Работа с двухбайтовыми наборами символов — про...</td>\n",
       "      <td>1</td>\n",
       "      <td>92:99</td>\n",
       "      <td>83:91</td>\n",
       "      <td>103:109</td>\n",
       "      <td>127:127</td>\n",
       "      <td>119:124</td>\n",
       "      <td>127:134</td>\n",
       "    </tr>\n",
       "    <tr>\n",
       "      <th>5</th>\n",
       "      <td>Выворачивает наизнанку, запад превращает в юг,...</td>\n",
       "      <td>1</td>\n",
       "      <td>30:40</td>\n",
       "      <td>24:29</td>\n",
       "      <td>41:45</td>\n",
       "      <td>57:57</td>\n",
       "      <td>49:54</td>\n",
       "      <td>57:65</td>\n",
       "    </tr>\n",
       "    <tr>\n",
       "      <th>7</th>\n",
       "      <td>Текущие обязательства компании в 2009 г. сокра...</td>\n",
       "      <td>1</td>\n",
       "      <td>109:120</td>\n",
       "      <td>82:108</td>\n",
       "      <td>121:148</td>\n",
       "      <td>180:180</td>\n",
       "      <td>152:177</td>\n",
       "      <td>180:202</td>\n",
       "    </tr>\n",
       "    <tr>\n",
       "      <th>8</th>\n",
       "      <td>Первая конвенция была ратифицирована 80 процен...</td>\n",
       "      <td>1</td>\n",
       "      <td>22:36</td>\n",
       "      <td>0:16</td>\n",
       "      <td>37:74</td>\n",
       "      <td>87:87</td>\n",
       "      <td>78:84</td>\n",
       "      <td>87:116</td>\n",
       "    </tr>\n",
       "    <tr>\n",
       "      <th>14</th>\n",
       "      <td>Но Христианин сказал Упрямому: — Нет, сосед, л...</td>\n",
       "      <td>1</td>\n",
       "      <td>105:112</td>\n",
       "      <td>113:139</td>\n",
       "      <td>0</td>\n",
       "      <td>156:156</td>\n",
       "      <td>156:169</td>\n",
       "      <td>0</td>\n",
       "    </tr>\n",
       "  </tbody>\n",
       "</table>\n",
       "</div>"
      ],
      "text/plain": [
       "                                                 text  class_       cV  \\\n",
       "1   Работа с двухбайтовыми наборами символов — про...       1    92:99   \n",
       "5   Выворачивает наизнанку, запад превращает в юг,...       1    30:40   \n",
       "7   Текущие обязательства компании в 2009 г. сокра...       1  109:120   \n",
       "8   Первая конвенция была ратифицирована 80 процен...       1    22:36   \n",
       "14  Но Христианин сказал Упрямому: — Нет, сосед, л...       1  105:112   \n",
       "\n",
       "        cR1      cR2        V       R1       R2  \n",
       "1     83:91  103:109  127:127  119:124  127:134  \n",
       "5     24:29    41:45    57:57    49:54    57:65  \n",
       "7    82:108  121:148  180:180  152:177  180:202  \n",
       "8      0:16    37:74    87:87    78:84   87:116  \n",
       "14  113:139        0  156:156  156:169        0  "
      ]
     },
     "execution_count": 53,
     "metadata": {},
     "output_type": "execute_result"
    }
   ],
   "source": [
    "class_1.head()"
   ]
  },
  {
   "cell_type": "code",
   "execution_count": 50,
   "metadata": {},
   "outputs": [],
   "source": [
    "def str_to_inx(inx_str):\n",
    "    '''\n",
    "    Change slices from strings into integers.\n",
    "    '''\n",
    "    inx_str = str(inx_str)\n",
    "    inx_str = inx_str.split(' ')\n",
    "    inx_list = []\n",
    "    for i in inx_str:\n",
    "        i = i.split(':')\n",
    "        for inx in i:\n",
    "            inx_list.append(inx)\n",
    "    \n",
    "    return inx_list\n",
    "        \n",
    "\n",
    "def IOB_encoder(df):\n",
    "    '''\n",
    "    Split texts into words, and map them with their IOB properties.\n",
    "    '''\n",
    "    encoded = []\n",
    "    for i in range(len(df)):\n",
    "        text = df['text'].iloc[i]\n",
    "        cv_inx = str_to_inx(df['cV'].iloc[i])\n",
    "        cR1_inx = str_to_inx(df['cR1'].iloc[i])\n",
    "        cR2_inx = str_to_inx(df['cR2'].iloc[i])\n",
    "        V_inx = str_to_inx(df['V'].iloc[i])\n",
    "        R1_inx = str_to_inx(df['R1'].iloc[i])\n",
    "        R2_inx = str_to_inx(df['R2'].iloc[i])\n",
    "        \n",
    "        cv = [text[int(cv_inx[int(2*n)]):int(cv_inx[int(2*n+1)])] for n in range(int(len(cv_inx)/2))]\n",
    "        #print(cv)\n",
    "        cR1 = [text[int(cR1_inx[int(2*n)]):int(cR1_inx[int(2*n+1)])] for n in range(int(len(cR1_inx)/2))]\n",
    "        cR2 = [text[int(cR2_inx[int(2*n)]):int(cR2_inx[int(2*n+1)])] for n in range(int(len(cR2_inx)/2))]\n",
    "        V = [text[int(V_inx[int(2*n)]):int(V_inx[int(2*n+1)])] for n in range(int(len(V_inx)/2))]\n",
    "        R1 = [text[int(R1_inx[int(2*n)]):int(R1_inx[int(2*n+1)])] for n in range(int(len(R1_inx)/2))]\n",
    "        R2 = [text[int(R2_inx[int(2*n)]):int(R2_inx[int(2*n+1)])] for n in range(int(len(R2_inx)/2))]\n",
    "        \n",
    "        IOB = {}\n",
    "        \n",
    "        if len(cv) > 0:\n",
    "            for k in cv:\n",
    "                text = text.replace(k,'')\n",
    "                IOB[k] = 'B-cV'\n",
    "        if len(cR1) > 0:\n",
    "            for k in cR1:\n",
    "                text = text.replace(k,'')\n",
    "                IOB[k] = 'B-cR1'\n",
    "        if len(cR2) > 0:\n",
    "            for k in cR2:\n",
    "                text = text.replace(k,'')\n",
    "                words = cR2[0].split(' ')\n",
    "                if len(words) > 1:\n",
    "                    IOB[words[0]] = 'B-cR2'\n",
    "                    IOB[' '.join(words[1:])] = 'I-cR2'\n",
    "                elif len(words) == 1:\n",
    "                    IOB[words[0]] = 'B-cR2'\n",
    "                \n",
    "        if len(V) > 0:\n",
    "            for k in V:\n",
    "                text = text.replace(k,'')\n",
    "                IOB[k] = 'V'\n",
    "        if len(R1) > 0:\n",
    "            for k in R1:\n",
    "                text = text.replace(k,'')\n",
    "                IOB[k] = 'B-R1'\n",
    "        if len(R2) > 0:\n",
    "            for j in range(len(R2)):\n",
    "                text = text.replace(R2[j],'')\n",
    "                words = R2[j].split(' ')\n",
    "                \n",
    "                if len(words) > 1:\n",
    "                    IOB[words[0]] = 'B-R2'\n",
    "                    IOB[' '.join(words[1:])] = 'I-R2'\n",
    "                else:\n",
    "                    IOB[words[0]] = 'B-R2'\n",
    "        \n",
    "        text = text.split(' ')\n",
    "        \n",
    "        for word in text:\n",
    "            if word not in IOB:\n",
    "                IOB[word] = 'O'\n",
    "            \n",
    "        \n",
    "        encoded.append(IOB)\n",
    "        \n",
    "        \n",
    "    \n",
    "    return encoded\n",
    "    \n",
    "        \n",
    "def IOB_decoder(encoded):\n",
    "    '''\n",
    "    Turn IOB into slices. Since V class is non-existent, the exact slices generated my differ from the original ones. \n",
    "    '''\n",
    "    decoded = []\n",
    "    \n",
    "    for i in range(len(encoded)):\n",
    "        text = class_1['text'].iloc[i]\n",
    "        IOB = {}\n",
    "        for word in encoded[i]:\n",
    "            if encoded[i][word] == 'B-cV':\n",
    "                cV_start = text.index(word)\n",
    "                cV_end = cV_start + len(word)\n",
    "                IOB['cV'] = str(cV_start) + ':' + str(cV_end)\n",
    "            elif encoded[i][word] == 'B-cR1':\n",
    "                cR1_start = text.index(word)\n",
    "                cR1_end = cV_start + len(word)\n",
    "                IOB['cR1'] = str(cR1_start) + ':' + str(cR1_end)\n",
    "            elif encoded[i][word] == 'V':\n",
    "                V_start = text.index(word)\n",
    "                V_end = V_start + len(word)\n",
    "                IOB['V'] = str(V_start) + ':' + str(V_end)\n",
    "            elif encoded[i][word] == 'B-R1':\n",
    "                R1_start = text.index(word)\n",
    "                R1_end = R1_start + len(word)\n",
    "                IOB['R1'] = str(R1_start) + ':' + str(R1_end)\n",
    "            elif encoded[i][word] == 'B-cR2':\n",
    "                cR2_start = text.index(word)\n",
    "                if 'I-cR2' in encoded[i].values():\n",
    "                    for word2 in encoded[i]:\n",
    "                        if encoded[i][word2] == 'I-cR2':\n",
    "                            cR2_end = text.index(word2) + len(word2)\n",
    "                    IOB['cR2'] = str(cR2_start) + ':' + str(cR2_end)\n",
    "                else:\n",
    "                    cR2_end = text.index(word) + len(word)\n",
    "                    IOB['cR2'] = str(cR2_start) + ':' + str(cR2_end)\n",
    "            elif encoded[i][word] == 'B-R2':\n",
    "                R2_start = text.index(word)\n",
    "                if 'I-R2' in encoded[i].values():\n",
    "                    for word2 in encoded[i]:\n",
    "                        if encoded[i][word2] == 'I-R2':\n",
    "                            R2_end = text.index(word2) + len(word2)\n",
    "                    IOB['R2'] = str(R2_start) + ':' + str(R2_end)\n",
    "                else:\n",
    "                    R2_end = text.index(word) + len(word)\n",
    "                    IOB['R2'] = str(R2_start) + ':' + str(R2_end)\n",
    "        \n",
    "        decoded.append(IOB)\n",
    "        \n",
    "    return decoded"
   ]
  },
  {
   "cell_type": "code",
   "execution_count": 51,
   "metadata": {},
   "outputs": [],
   "source": [
    "encoded = IOB_encoder(class_1)"
   ]
  },
  {
   "cell_type": "code",
   "execution_count": 57,
   "metadata": {},
   "outputs": [
    {
     "data": {
      "text/plain": [
       "{'состоит': 'B-cV',\n",
       " 'часть их': 'B-cR1',\n",
       " 'одного': 'B-cR2',\n",
       " '': 'V',\n",
       " 'часть': 'B-R1',\n",
       " 'из': 'B-R2',\n",
       " 'двух': 'I-R2',\n",
       " 'Работа': 'O',\n",
       " 'с': 'O',\n",
       " 'двухбайтовыми': 'O',\n",
       " 'наборами': 'O',\n",
       " 'символов': 'O',\n",
       " '—': 'O',\n",
       " 'просто': 'O',\n",
       " 'кошмар': 'O',\n",
       " 'для': 'O',\n",
       " 'программиста,': 'O',\n",
       " 'так': 'O',\n",
       " 'как': 'O',\n",
       " 'байта,': 'O',\n",
       " 'а': 'O',\n",
       " '.': 'O'}"
      ]
     },
     "execution_count": 57,
     "metadata": {},
     "output_type": "execute_result"
    }
   ],
   "source": [
    "encoded[0]"
   ]
  },
  {
   "cell_type": "code",
   "execution_count": 47,
   "metadata": {},
   "outputs": [],
   "source": [
    "decoded = IOB_decoder(encoded)"
   ]
  },
  {
   "cell_type": "code",
   "execution_count": 58,
   "metadata": {},
   "outputs": [
    {
     "data": {
      "text/plain": [
       "{'cV': '92:99',\n",
       " 'cR1': '83:100',\n",
       " 'cR2': '103:109',\n",
       " 'V': '0:0',\n",
       " 'R1': '83:88',\n",
       " 'R2': '100:13'}"
      ]
     },
     "execution_count": 58,
     "metadata": {},
     "output_type": "execute_result"
    }
   ],
   "source": [
    "decoded[0]"
   ]
  },
  {
   "cell_type": "markdown",
   "metadata": {},
   "source": [
    "## 4. Конвертер разметки-2"
   ]
  },
  {
   "cell_type": "code",
   "execution_count": 481,
   "metadata": {},
   "outputs": [],
   "source": [
    "def str_to_inx(inx_str):\n",
    "    '''\n",
    "    Change slices from strings into integers.\n",
    "    '''\n",
    "    inx_str = str(inx_str)\n",
    "    inx_str = inx_str.split(' ')\n",
    "    inx_list = []\n",
    "    for i in inx_str:\n",
    "        i = i.split(':')\n",
    "        for inx in i:\n",
    "            inx_list.append(inx)\n",
    "    return inx_list\n",
    "\n",
    "\n",
    "def bracket_encoder(df):\n",
    "    '''\n",
    "    Get labelled chunks, get all the chunks, combine the labelled and general chunks into sentences.\n",
    "    '''\n",
    "  #  encoded = {}\n",
    "    enc_sent = []\n",
    "  #  num_sent = []\n",
    "    for i in range(len(df)):\n",
    "        print(i)\n",
    "        text = df['text'].iloc[i]\n",
    "        print(text)\n",
    "        cv_inx = str_to_inx(df['cV'].iloc[i])\n",
    "        cR1_inx = str_to_inx(df['cR1'].iloc[i])\n",
    "        cR2_inx = str_to_inx(df['cR2'].iloc[i])\n",
    "        V_inx = str_to_inx(df['V'].iloc[i])\n",
    "        R1_inx = str_to_inx(df['R1'].iloc[i])\n",
    "        R2_inx = str_to_inx(df['R2'].iloc[i])\n",
    "        \n",
    "        all_inx = ''\n",
    "        all_inx = cv_inx+cR1_inx+cR2_inx+V_inx+R1_inx+R2_inx # get offset numbers for the whole sent\n",
    "        \n",
    "        sort_all_ind = [int(inx) for inx in all_inx if inx != '0'] # str -> int, rid of zeros\n",
    "        sort_all_ind.append(0) # add the only needed zero\n",
    "        sort_all_ind.sort()\n",
    "        sort_all_ind.append(len(text) + 2) # needed to get the index of the last symbol in a sentence\n",
    "        sort_all_ind.append(len(text) + 2) # to indeed have this index in the list after the latter manipulations\n",
    "        all_inx_pairs = [sort_all_ind[i:i + 2] for i in range(len(sort_all_ind) - 3 + 1) if sort_all_ind[i] != sort_all_ind[i+2]]\n",
    "        all_symb = [] # collect all the parts of the sent\n",
    "        for pair in all_inx_pairs:\n",
    "            text_pair = text[pair[0]:pair[1]]\n",
    "            all_symb.append(text_pair)\n",
    "        \n",
    "        cv = [text[int(cv_inx[int(2*n)]):int(cv_inx[int(2*n+1)])] for n in range(int(len(cv_inx)/2))]\n",
    "        cR1 = [text[int(cR1_inx[int(2*n)]):int(cR1_inx[int(2*n+1)])] for n in range(int(len(cR1_inx)/2))]\n",
    "        cR2 = [text[int(cR2_inx[int(2*n)]):int(cR2_inx[int(2*n+1)])] for n in range(int(len(cR2_inx)/2))]\n",
    "        V = [text[int(V_inx[int(2*n)]):int(V_inx[int(2*n+1)])] for n in range(int(len(V_inx)/2))]\n",
    "        R1 = [text[int(R1_inx[int(2*n)]):int(R1_inx[int(2*n+1)])] for n in range(int(len(R1_inx)/2))]\n",
    "        R2 = [text[int(R2_inx[int(2*n)]):int(R2_inx[int(2*n+1)])] for n in range(int(len(R2_inx)/2))]\n",
    "        ind_R2 = [[int(R2_inx[int(2*n)]), int(R2_inx[int(2*n+1)])] for n in range(int(len(R2_inx)/2))]\n",
    "        \n",
    "        enc_s = []\n",
    "        for s in all_symb:\n",
    "            for k in cv:\n",
    "                if s == k:\n",
    "                    s = 'cv' + '[ ' + s + ' cv' + ']'\n",
    "            for k in cR1:\n",
    "                if s == k:\n",
    "                    s = 'cR1' + '[ ' + s + ' cR1' + ']'\n",
    "            for k in cR2:\n",
    "                if s == k:\n",
    "                    s = 'cR2' + '[ ' + s + ' cR2' + ']'\n",
    "            for k in V:\n",
    "                if s == k and s == '':\n",
    "                    s = 'V' + '[] '\n",
    "                elif s == k and s != '':\n",
    "                    s = 'V' + '[ ' + s + ' V' + ']'\n",
    "            for k in R1:\n",
    "                if s == k and s == '':\n",
    "                    s = 'R1' + '[] '\n",
    "                elif s == k and s != '':\n",
    "                    s = 'R1' + '[ ' + s + ' R1' + ']'\n",
    "            for k in R2:\n",
    "                if s == k and s == '':\n",
    "                    s = 'R2' + '[] '\n",
    "                elif s == k and s != '':\n",
    "                    s = 'R2' + '[ ' + s + ' R2' + ']'\n",
    "            enc_s.append(s)\n",
    "        print(''.join(enc_s))\n",
    "        enc_sent.append(''.join(enc_s))\n",
    "    #    num_sent.append(i)\n",
    "   # print(num_sent, enc_sent)\n",
    "  #  encoded = dict(zip(num_sent, enc_sent))    \n",
    "  #  return(encoded)\n",
    "\n"
   ]
  },
  {
   "cell_type": "code",
   "execution_count": 482,
   "metadata": {},
   "outputs": [
    {
     "data": {
      "text/html": [
       "<div>\n",
       "<style scoped>\n",
       "    .dataframe tbody tr th:only-of-type {\n",
       "        vertical-align: middle;\n",
       "    }\n",
       "\n",
       "    .dataframe tbody tr th {\n",
       "        vertical-align: top;\n",
       "    }\n",
       "\n",
       "    .dataframe thead th {\n",
       "        text-align: right;\n",
       "    }\n",
       "</style>\n",
       "<table border=\"1\" class=\"dataframe\">\n",
       "  <thead>\n",
       "    <tr style=\"text-align: right;\">\n",
       "      <th></th>\n",
       "      <th>text</th>\n",
       "      <th>class_</th>\n",
       "      <th>cV</th>\n",
       "      <th>cR1</th>\n",
       "      <th>cR2</th>\n",
       "      <th>V</th>\n",
       "      <th>R1</th>\n",
       "      <th>R2</th>\n",
       "    </tr>\n",
       "  </thead>\n",
       "  <tbody>\n",
       "    <tr>\n",
       "      <th>1</th>\n",
       "      <td>Работа с двухбайтовыми наборами символов — про...</td>\n",
       "      <td>1</td>\n",
       "      <td>92:99</td>\n",
       "      <td>83:91</td>\n",
       "      <td>103:109</td>\n",
       "      <td>127:127</td>\n",
       "      <td>119:124</td>\n",
       "      <td>127:134</td>\n",
       "    </tr>\n",
       "    <tr>\n",
       "      <th>5</th>\n",
       "      <td>Выворачивает наизнанку, запад превращает в юг,...</td>\n",
       "      <td>1</td>\n",
       "      <td>30:40</td>\n",
       "      <td>24:29</td>\n",
       "      <td>41:45</td>\n",
       "      <td>57:57</td>\n",
       "      <td>49:54</td>\n",
       "      <td>57:65</td>\n",
       "    </tr>\n",
       "  </tbody>\n",
       "</table>\n",
       "</div>"
      ],
      "text/plain": [
       "                                                text  class_     cV    cR1  \\\n",
       "1  Работа с двухбайтовыми наборами символов — про...       1  92:99  83:91   \n",
       "5  Выворачивает наизнанку, запад превращает в юг,...       1  30:40  24:29   \n",
       "\n",
       "       cR2        V       R1       R2  \n",
       "1  103:109  127:127  119:124  127:134  \n",
       "5    41:45    57:57    49:54    57:65  "
      ]
     },
     "execution_count": 482,
     "metadata": {},
     "output_type": "execute_result"
    }
   ],
   "source": [
    "# print(bracket_encoder(class_1)) # too long\n",
    "class_1_sample = class_1.loc['1':'5']\n",
    "class_1_sample"
   ]
  },
  {
   "cell_type": "code",
   "execution_count": 483,
   "metadata": {},
   "outputs": [
    {
     "name": "stdout",
     "output_type": "stream",
     "text": [
      "0\n",
      "Работа с двухбайтовыми наборами символов — просто кошмар для программиста, так как часть их состоит из одного байта, а часть — из двух.\n",
      "Работа с двухбайтовыми наборами символов — просто кошмар для программиста, так как cR1[ часть их cR1] cv[ состоит cv] из cR2[ одного cR2] байта, а R1[ часть R1] — V[] R2[ из двух R2].\n",
      "1\n",
      "Выворачивает наизнанку, запад превращает в юг, а север — в восток, меняет местами добро и зло, велит открыть своё сердце, ничего не требуя взамен.\n",
      "Выворачивает наизнанку, cR1[ запад cR1] cv[ превращает cv] cR2[ в юг cR2], а R1[ север R1] — V[] R2[ в восток R2], меняет местами добро и зло, велит открыть своё сердце, ничего не требуя взамен.\n",
      "None\n"
     ]
    }
   ],
   "source": [
    "print(bracket_encoder(class_1_sample))"
   ]
  },
  {
   "cell_type": "markdown",
   "metadata": {},
   "source": [
    "# 5. Бинарная классификация"
   ]
  },
  {
   "cell_type": "code",
   "execution_count": 60,
   "metadata": {},
   "outputs": [
    {
     "name": "stderr",
     "output_type": "stream",
     "text": [
      "Using TensorFlow backend.\n"
     ]
    }
   ],
   "source": [
    "from numpy import array\n",
    "from keras.preprocessing.text import one_hot\n",
    "from keras.preprocessing.sequence import pad_sequences\n",
    "from keras.models import Sequential\n",
    "from keras.layers import Dense\n",
    "from keras.layers import Flatten\n",
    "from keras.layers.embeddings import Embedding\n",
    "from nltk import word_tokenize"
   ]
  },
  {
   "cell_type": "code",
   "execution_count": 62,
   "metadata": {},
   "outputs": [],
   "source": [
    "def clear_text(df, MAX_length):\n",
    "    '''\n",
    "    Decapitalize the text and remove punctuations, numbers, etc.. Also remove sentences that are too long.\n",
    "    '''\n",
    "    docs = []\n",
    "    labels = []\n",
    "    IOB = []\n",
    "    text_index = []\n",
    "    for i in range(len(df)):\n",
    "        current_pair = []\n",
    "        sent = df['text'][i]\n",
    "        sent = sent.lower()\n",
    "        ru = ' йцукенгшщзхъфывапролджэячсмитьбюё'\n",
    "        sent = ''.join([letter for letter in sent if letter in ru])\n",
    "        if len(sent.split(' ')) <= MAX_length:\n",
    "            docs.append(sent)\n",
    "            labels.append(df['class_'][i])\n",
    "            text_index.append(i)\n",
    "    labels = array(labels)\n",
    "    return docs, labels, text_index\n",
    "\n",
    "docs_train, labels_train, text_index = clear_text(train, 50)"
   ]
  },
  {
   "cell_type": "code",
   "execution_count": 63,
   "metadata": {},
   "outputs": [],
   "source": [
    "def make_vocab(docs):\n",
    "    '''\n",
    "    Make a vocabulary for later use.\n",
    "    '''\n",
    "    vocab = []\n",
    "    for i in docs:\n",
    "        i = i.split(' ')\n",
    "        for word in i:\n",
    "            if word not in vocab:\n",
    "                vocab.append(word)\n",
    "    \n",
    "    return vocab\n",
    "\n",
    "vocab = make_vocab(docs_train)"
   ]
  },
  {
   "cell_type": "code",
   "execution_count": 64,
   "metadata": {},
   "outputs": [
    {
     "data": {
      "text/plain": [
       "63616"
      ]
     },
     "execution_count": 64,
     "metadata": {},
     "output_type": "execute_result"
    }
   ],
   "source": [
    "len(vocab)"
   ]
  },
  {
   "cell_type": "code",
   "execution_count": 65,
   "metadata": {},
   "outputs": [
    {
     "data": {
      "text/plain": [
       "['будучи в прошлый четверг в софии он назвал себя наполовину восточноевропейцем и за последние пять дней успел принять у себя лидеров украины польши и чехии',\n",
       " 'работа с двухбайтовыми наборами символов  просто кошмар для программиста так как часть их состоит из одного байта а часть  из двух']"
      ]
     },
     "execution_count": 65,
     "metadata": {},
     "output_type": "execute_result"
    }
   ],
   "source": [
    "docs_train[0:2]"
   ]
  },
  {
   "cell_type": "code",
   "execution_count": 66,
   "metadata": {},
   "outputs": [],
   "source": [
    "vocab_size = len(vocab)\n",
    "encoded_docs = [one_hot(d, vocab_size) for d in docs_train]#turn sentences from strings into arrays of indexes."
   ]
  },
  {
   "cell_type": "code",
   "execution_count": 485,
   "metadata": {},
   "outputs": [
    {
     "data": {
      "text/plain": [
       "[49886,\n",
       " 60558,\n",
       " 17844,\n",
       " 56856,\n",
       " 60558,\n",
       " 60552,\n",
       " 56598,\n",
       " 42147,\n",
       " 61513,\n",
       " 8200,\n",
       " 44424,\n",
       " 9452,\n",
       " 43860,\n",
       " 15979,\n",
       " 23458,\n",
       " 41756,\n",
       " 15782,\n",
       " 29215,\n",
       " 52627,\n",
       " 61513,\n",
       " 30956,\n",
       " 3555,\n",
       " 23001,\n",
       " 9452,\n",
       " 54317]"
      ]
     },
     "execution_count": 485,
     "metadata": {},
     "output_type": "execute_result"
    }
   ],
   "source": [
    "encoded_docs[0]"
   ]
  },
  {
   "cell_type": "code",
   "execution_count": 69,
   "metadata": {},
   "outputs": [
    {
     "name": "stdout",
     "output_type": "stream",
     "text": [
      "[[49886 60558 17844 ...     0     0     0]\n",
      " [35387 48962 25945 ...     0     0     0]\n",
      " [33806 61119 46142 ...     0     0     0]\n",
      " ...\n",
      " [  959 43162 39746 ...     0     0     0]\n",
      " [15412 48962  3059 ...     0     0     0]\n",
      " [24111 57023 27560 ...     0     0     0]]\n"
     ]
    }
   ],
   "source": [
    "MAX_length = 50\n",
    "padded_docs = pad_sequences(encoded_docs, maxlen=MAX_length, padding='post') #Make all sentences of the same length.\n",
    "print(padded_docs)"
   ]
  },
  {
   "cell_type": "markdown",
   "metadata": {},
   "source": [
    "Now we build and train a model."
   ]
  },
  {
   "cell_type": "code",
   "execution_count": 70,
   "metadata": {},
   "outputs": [
    {
     "name": "stdout",
     "output_type": "stream",
     "text": [
      "WARNING:tensorflow:From /Library/Frameworks/Python.framework/Versions/3.6/lib/python3.6/site-packages/tensorflow/python/framework/op_def_library.py:263: colocate_with (from tensorflow.python.framework.ops) is deprecated and will be removed in a future version.\n",
      "Instructions for updating:\n",
      "Colocations handled automatically by placer.\n",
      "_________________________________________________________________\n",
      "Layer (type)                 Output Shape              Param #   \n",
      "=================================================================\n",
      "embedding_1 (Embedding)      (None, 50, 100)           6361600   \n",
      "_________________________________________________________________\n",
      "flatten_1 (Flatten)          (None, 5000)              0         \n",
      "_________________________________________________________________\n",
      "dense_1 (Dense)              (None, 1)                 5001      \n",
      "=================================================================\n",
      "Total params: 6,366,601\n",
      "Trainable params: 6,366,601\n",
      "Non-trainable params: 0\n",
      "_________________________________________________________________\n",
      "None\n"
     ]
    }
   ],
   "source": [
    "model = Sequential()\n",
    "model.add(Embedding(vocab_size, 100, input_length=MAX_length))\n",
    "model.add(Flatten())\n",
    "model.add(Dense(1, activation='sigmoid'))\n",
    "model.compile(optimizer='adam', loss='binary_crossentropy', metrics=['acc'])\n",
    "print(model.summary())"
   ]
  },
  {
   "cell_type": "code",
   "execution_count": 73,
   "metadata": {},
   "outputs": [
    {
     "data": {
      "text/plain": [
       "<keras.callbacks.History at 0x2c56516b0f0>"
      ]
     },
     "execution_count": 73,
     "metadata": {},
     "output_type": "execute_result"
    }
   ],
   "source": [
    "model.fit(padded_docs, labels_train, epochs=100, verbose=0)"
   ]
  },
  {
   "cell_type": "markdown",
   "metadata": {},
   "source": [
    "The training takes forever. So please load the model included in the directory."
   ]
  },
  {
   "cell_type": "code",
   "execution_count": 84,
   "metadata": {},
   "outputs": [],
   "source": [
    "from keras.models import load_model\n",
    "model = load_model('task5__.model')"
   ]
  },
  {
   "cell_type": "markdown",
   "metadata": {},
   "source": [
    "# 6. Оценка результатов бинарной классификации"
   ]
  },
  {
   "cell_type": "markdown",
   "metadata": {},
   "source": [
    "The next step is to make the files for testing."
   ]
  },
  {
   "cell_type": "code",
   "execution_count": 85,
   "metadata": {},
   "outputs": [],
   "source": [
    "#test = pd.read_csv('test.csv',sep = '\\t', quoting=csv.QUOTE_NONE,encoding='utf-8').fillna(0)"
   ]
  },
  {
   "cell_type": "code",
   "execution_count": 86,
   "metadata": {},
   "outputs": [],
   "source": [
    "docs_test, labels_test, text_index_test = clear_text(test, 50)\n",
    "encoded_test = [one_hot(d, vocab_size) for d in docs_test]\n",
    "padded_test = pad_sequences(encoded_test, maxlen=MAX_length, padding='post')"
   ]
  },
  {
   "cell_type": "code",
   "execution_count": 87,
   "metadata": {},
   "outputs": [
    {
     "name": "stdout",
     "output_type": "stream",
     "text": [
      "Accuracy: 55.466399\n"
     ]
    }
   ],
   "source": [
    "loss, accuracy = model.evaluate(padded_test, labels_test, verbose=0)\n",
    "print('Accuracy: %f' % (accuracy*100))"
   ]
  },
  {
   "cell_type": "markdown",
   "metadata": {},
   "source": [
    "The achieved accuracy is 55.4%."
   ]
  },
  {
   "cell_type": "markdown",
   "metadata": {},
   "source": [
    "Now let's use the script. To do it, we have to prepare the input dfs and then csvs, as we have got rid of the sentences of more than 50 words."
   ]
  },
  {
   "cell_type": "code",
   "execution_count": 147,
   "metadata": {},
   "outputs": [],
   "source": [
    "zeros = []\n",
    "for i in enumerate(docs_test):\n",
    "    zeros.append('0')"
   ]
  },
  {
   "cell_type": "code",
   "execution_count": 206,
   "metadata": {},
   "outputs": [],
   "source": [
    "\n",
    "test_ = pd.DataFrame({'text': docs_test, 'class_': labels_test, 'cV':zeros, 'cR1':zeros, 'cR2':zeros, 'V':zeros, 'R1':zeros, 'R2':zeros})"
   ]
  },
  {
   "cell_type": "code",
   "execution_count": 207,
   "metadata": {},
   "outputs": [],
   "source": [
    "test_.to_csv(r'test_.csv', sep='\\t')"
   ]
  },
  {
   "cell_type": "markdown",
   "metadata": {},
   "source": [
    "Get predicted class labels:"
   ]
  },
  {
   "cell_type": "code",
   "execution_count": 208,
   "metadata": {},
   "outputs": [],
   "source": [
    "prediction = model.predict(padded_test)\n",
    "predi_cate = []\n",
    "for i in prediction:\n",
    "    if i < 0.5:\n",
    "        predi_cate.append(0)\n",
    "    else:\n",
    "        predi_cate.append(1)"
   ]
  },
  {
   "cell_type": "code",
   "execution_count": 209,
   "metadata": {},
   "outputs": [],
   "source": [
    "output = test_"
   ]
  },
  {
   "cell_type": "code",
   "execution_count": 210,
   "metadata": {},
   "outputs": [
    {
     "data": {
      "text/html": [
       "<div>\n",
       "<style scoped>\n",
       "    .dataframe tbody tr th:only-of-type {\n",
       "        vertical-align: middle;\n",
       "    }\n",
       "\n",
       "    .dataframe tbody tr th {\n",
       "        vertical-align: top;\n",
       "    }\n",
       "\n",
       "    .dataframe thead th {\n",
       "        text-align: right;\n",
       "    }\n",
       "</style>\n",
       "<table border=\"1\" class=\"dataframe\">\n",
       "  <thead>\n",
       "    <tr style=\"text-align: right;\">\n",
       "      <th></th>\n",
       "      <th>text</th>\n",
       "      <th>class_</th>\n",
       "      <th>cV</th>\n",
       "      <th>cR1</th>\n",
       "      <th>cR2</th>\n",
       "      <th>V</th>\n",
       "      <th>R1</th>\n",
       "      <th>R2</th>\n",
       "    </tr>\n",
       "  </thead>\n",
       "  <tbody>\n",
       "    <tr>\n",
       "      <th>0</th>\n",
       "      <td>изобретение относится к судостроению и касаетс...</td>\n",
       "      <td>0</td>\n",
       "      <td>0</td>\n",
       "      <td>0</td>\n",
       "      <td>0</td>\n",
       "      <td>0</td>\n",
       "      <td>0</td>\n",
       "      <td>0</td>\n",
       "    </tr>\n",
       "    <tr>\n",
       "      <th>1</th>\n",
       "      <td>эти состояния называют фазами воды а превращен...</td>\n",
       "      <td>1</td>\n",
       "      <td>0</td>\n",
       "      <td>0</td>\n",
       "      <td>0</td>\n",
       "      <td>0</td>\n",
       "      <td>0</td>\n",
       "      <td>0</td>\n",
       "    </tr>\n",
       "    <tr>\n",
       "      <th>2</th>\n",
       "      <td>и должен ни единой долькой  не отступаться от ...</td>\n",
       "      <td>0</td>\n",
       "      <td>0</td>\n",
       "      <td>0</td>\n",
       "      <td>0</td>\n",
       "      <td>0</td>\n",
       "      <td>0</td>\n",
       "      <td>0</td>\n",
       "    </tr>\n",
       "    <tr>\n",
       "      <th>3</th>\n",
       "      <td>он потребовал обеспечить полное осуществление ...</td>\n",
       "      <td>0</td>\n",
       "      <td>0</td>\n",
       "      <td>0</td>\n",
       "      <td>0</td>\n",
       "      <td>0</td>\n",
       "      <td>0</td>\n",
       "      <td>0</td>\n",
       "    </tr>\n",
       "    <tr>\n",
       "      <th>4</th>\n",
       "      <td>по мнению местного пастора элла эбанкса запрет...</td>\n",
       "      <td>0</td>\n",
       "      <td>0</td>\n",
       "      <td>0</td>\n",
       "      <td>0</td>\n",
       "      <td>0</td>\n",
       "      <td>0</td>\n",
       "      <td>0</td>\n",
       "    </tr>\n",
       "    <tr>\n",
       "      <th>5</th>\n",
       "      <td>международные правозащитники некоторые национа...</td>\n",
       "      <td>0</td>\n",
       "      <td>0</td>\n",
       "      <td>0</td>\n",
       "      <td>0</td>\n",
       "      <td>0</td>\n",
       "      <td>0</td>\n",
       "      <td>0</td>\n",
       "    </tr>\n",
       "    <tr>\n",
       "      <th>6</th>\n",
       "      <td>концы элементов закреплены в подвижных трубных...</td>\n",
       "      <td>0</td>\n",
       "      <td>0</td>\n",
       "      <td>0</td>\n",
       "      <td>0</td>\n",
       "      <td>0</td>\n",
       "      <td>0</td>\n",
       "      <td>0</td>\n",
       "    </tr>\n",
       "    <tr>\n",
       "      <th>7</th>\n",
       "      <td>два валяются в воде два на призовых местах</td>\n",
       "      <td>1</td>\n",
       "      <td>0</td>\n",
       "      <td>0</td>\n",
       "      <td>0</td>\n",
       "      <td>0</td>\n",
       "      <td>0</td>\n",
       "      <td>0</td>\n",
       "    </tr>\n",
       "    <tr>\n",
       "      <th>8</th>\n",
       "      <td>в тоже время в обоих двоичных деревьях узел  я...</td>\n",
       "      <td>1</td>\n",
       "      <td>0</td>\n",
       "      <td>0</td>\n",
       "      <td>0</td>\n",
       "      <td>0</td>\n",
       "      <td>0</td>\n",
       "      <td>0</td>\n",
       "    </tr>\n",
       "    <tr>\n",
       "      <th>9</th>\n",
       "      <td>знаете обычно говорят что девочка  это папина ...</td>\n",
       "      <td>0</td>\n",
       "      <td>0</td>\n",
       "      <td>0</td>\n",
       "      <td>0</td>\n",
       "      <td>0</td>\n",
       "      <td>0</td>\n",
       "      <td>0</td>\n",
       "    </tr>\n",
       "    <tr>\n",
       "      <th>10</th>\n",
       "      <td>подшипниковый щит  со стороны защитного кожуха...</td>\n",
       "      <td>0</td>\n",
       "      <td>0</td>\n",
       "      <td>0</td>\n",
       "      <td>0</td>\n",
       "      <td>0</td>\n",
       "      <td>0</td>\n",
       "      <td>0</td>\n",
       "    </tr>\n",
       "    <tr>\n",
       "      <th>11</th>\n",
       "      <td>описание структуры  приводится ниже а описание...</td>\n",
       "      <td>1</td>\n",
       "      <td>0</td>\n",
       "      <td>0</td>\n",
       "      <td>0</td>\n",
       "      <td>0</td>\n",
       "      <td>0</td>\n",
       "      <td>0</td>\n",
       "    </tr>\n",
       "    <tr>\n",
       "      <th>12</th>\n",
       "      <td>но нет оснований к тому чтобы курс акций рос п...</td>\n",
       "      <td>0</td>\n",
       "      <td>0</td>\n",
       "      <td>0</td>\n",
       "      <td>0</td>\n",
       "      <td>0</td>\n",
       "      <td>0</td>\n",
       "      <td>0</td>\n",
       "    </tr>\n",
       "    <tr>\n",
       "      <th>13</th>\n",
       "      <td>продаю лес кругляк в армавире и краснодарском ...</td>\n",
       "      <td>0</td>\n",
       "      <td>0</td>\n",
       "      <td>0</td>\n",
       "      <td>0</td>\n",
       "      <td>0</td>\n",
       "      <td>0</td>\n",
       "      <td>0</td>\n",
       "    </tr>\n",
       "    <tr>\n",
       "      <th>14</th>\n",
       "      <td>инвестиционный совет означает рекомендацию мне...</td>\n",
       "      <td>0</td>\n",
       "      <td>0</td>\n",
       "      <td>0</td>\n",
       "      <td>0</td>\n",
       "      <td>0</td>\n",
       "      <td>0</td>\n",
       "      <td>0</td>\n",
       "    </tr>\n",
       "  </tbody>\n",
       "</table>\n",
       "</div>"
      ],
      "text/plain": [
       "                                                 text  class_ cV cR1 cR2  V  \\\n",
       "0   изобретение относится к судостроению и касаетс...       0  0   0   0  0   \n",
       "1   эти состояния называют фазами воды а превращен...       1  0   0   0  0   \n",
       "2   и должен ни единой долькой  не отступаться от ...       0  0   0   0  0   \n",
       "3   он потребовал обеспечить полное осуществление ...       0  0   0   0  0   \n",
       "4   по мнению местного пастора элла эбанкса запрет...       0  0   0   0  0   \n",
       "5   международные правозащитники некоторые национа...       0  0   0   0  0   \n",
       "6   концы элементов закреплены в подвижных трубных...       0  0   0   0  0   \n",
       "7          два валяются в воде два на призовых местах       1  0   0   0  0   \n",
       "8   в тоже время в обоих двоичных деревьях узел  я...       1  0   0   0  0   \n",
       "9   знаете обычно говорят что девочка  это папина ...       0  0   0   0  0   \n",
       "10  подшипниковый щит  со стороны защитного кожуха...       0  0   0   0  0   \n",
       "11  описание структуры  приводится ниже а описание...       1  0   0   0  0   \n",
       "12  но нет оснований к тому чтобы курс акций рос п...       0  0   0   0  0   \n",
       "13  продаю лес кругляк в армавире и краснодарском ...       0  0   0   0  0   \n",
       "14  инвестиционный совет означает рекомендацию мне...       0  0   0   0  0   \n",
       "\n",
       "   R1 R2  \n",
       "0   0  0  \n",
       "1   0  0  \n",
       "2   0  0  \n",
       "3   0  0  \n",
       "4   0  0  \n",
       "5   0  0  \n",
       "6   0  0  \n",
       "7   0  0  \n",
       "8   0  0  \n",
       "9   0  0  \n",
       "10  0  0  \n",
       "11  0  0  \n",
       "12  0  0  \n",
       "13  0  0  \n",
       "14  0  0  "
      ]
     },
     "execution_count": 210,
     "metadata": {},
     "output_type": "execute_result"
    }
   ],
   "source": [
    "test_.head(15)"
   ]
  },
  {
   "cell_type": "code",
   "execution_count": 211,
   "metadata": {},
   "outputs": [
    {
     "data": {
      "text/html": [
       "<div>\n",
       "<style scoped>\n",
       "    .dataframe tbody tr th:only-of-type {\n",
       "        vertical-align: middle;\n",
       "    }\n",
       "\n",
       "    .dataframe tbody tr th {\n",
       "        vertical-align: top;\n",
       "    }\n",
       "\n",
       "    .dataframe thead th {\n",
       "        text-align: right;\n",
       "    }\n",
       "</style>\n",
       "<table border=\"1\" class=\"dataframe\">\n",
       "  <thead>\n",
       "    <tr style=\"text-align: right;\">\n",
       "      <th></th>\n",
       "      <th>text</th>\n",
       "      <th>cV</th>\n",
       "      <th>cR1</th>\n",
       "      <th>cR2</th>\n",
       "      <th>V</th>\n",
       "      <th>R1</th>\n",
       "      <th>R2</th>\n",
       "    </tr>\n",
       "  </thead>\n",
       "  <tbody>\n",
       "    <tr>\n",
       "      <th>0</th>\n",
       "      <td>изобретение относится к судостроению и касаетс...</td>\n",
       "      <td>0</td>\n",
       "      <td>0</td>\n",
       "      <td>0</td>\n",
       "      <td>0</td>\n",
       "      <td>0</td>\n",
       "      <td>0</td>\n",
       "    </tr>\n",
       "    <tr>\n",
       "      <th>1</th>\n",
       "      <td>эти состояния называют фазами воды а превращен...</td>\n",
       "      <td>0</td>\n",
       "      <td>0</td>\n",
       "      <td>0</td>\n",
       "      <td>0</td>\n",
       "      <td>0</td>\n",
       "      <td>0</td>\n",
       "    </tr>\n",
       "    <tr>\n",
       "      <th>2</th>\n",
       "      <td>и должен ни единой долькой  не отступаться от ...</td>\n",
       "      <td>0</td>\n",
       "      <td>0</td>\n",
       "      <td>0</td>\n",
       "      <td>0</td>\n",
       "      <td>0</td>\n",
       "      <td>0</td>\n",
       "    </tr>\n",
       "    <tr>\n",
       "      <th>3</th>\n",
       "      <td>он потребовал обеспечить полное осуществление ...</td>\n",
       "      <td>0</td>\n",
       "      <td>0</td>\n",
       "      <td>0</td>\n",
       "      <td>0</td>\n",
       "      <td>0</td>\n",
       "      <td>0</td>\n",
       "    </tr>\n",
       "    <tr>\n",
       "      <th>4</th>\n",
       "      <td>по мнению местного пастора элла эбанкса запрет...</td>\n",
       "      <td>0</td>\n",
       "      <td>0</td>\n",
       "      <td>0</td>\n",
       "      <td>0</td>\n",
       "      <td>0</td>\n",
       "      <td>0</td>\n",
       "    </tr>\n",
       "  </tbody>\n",
       "</table>\n",
       "</div>"
      ],
      "text/plain": [
       "                                                text cV cR1 cR2  V R1 R2\n",
       "0  изобретение относится к судостроению и касаетс...  0   0   0  0  0  0\n",
       "1  эти состояния называют фазами воды а превращен...  0   0   0  0  0  0\n",
       "2  и должен ни единой долькой  не отступаться от ...  0   0   0  0  0  0\n",
       "3  он потребовал обеспечить полное осуществление ...  0   0   0  0  0  0\n",
       "4  по мнению местного пастора элла эбанкса запрет...  0   0   0  0  0  0"
      ]
     },
     "execution_count": 211,
     "metadata": {},
     "output_type": "execute_result"
    }
   ],
   "source": [
    "output.drop(['class_'], axis = 1, inplace=True)\n",
    "output.head()"
   ]
  },
  {
   "cell_type": "code",
   "execution_count": 212,
   "metadata": {},
   "outputs": [],
   "source": [
    "output.insert(1, \"class_\", predi_cate, True)"
   ]
  },
  {
   "cell_type": "code",
   "execution_count": 213,
   "metadata": {},
   "outputs": [
    {
     "data": {
      "text/html": [
       "<div>\n",
       "<style scoped>\n",
       "    .dataframe tbody tr th:only-of-type {\n",
       "        vertical-align: middle;\n",
       "    }\n",
       "\n",
       "    .dataframe tbody tr th {\n",
       "        vertical-align: top;\n",
       "    }\n",
       "\n",
       "    .dataframe thead th {\n",
       "        text-align: right;\n",
       "    }\n",
       "</style>\n",
       "<table border=\"1\" class=\"dataframe\">\n",
       "  <thead>\n",
       "    <tr style=\"text-align: right;\">\n",
       "      <th></th>\n",
       "      <th>text</th>\n",
       "      <th>class_</th>\n",
       "      <th>cV</th>\n",
       "      <th>cR1</th>\n",
       "      <th>cR2</th>\n",
       "      <th>V</th>\n",
       "      <th>R1</th>\n",
       "      <th>R2</th>\n",
       "    </tr>\n",
       "  </thead>\n",
       "  <tbody>\n",
       "    <tr>\n",
       "      <th>0</th>\n",
       "      <td>изобретение относится к судостроению и касаетс...</td>\n",
       "      <td>0</td>\n",
       "      <td>0</td>\n",
       "      <td>0</td>\n",
       "      <td>0</td>\n",
       "      <td>0</td>\n",
       "      <td>0</td>\n",
       "      <td>0</td>\n",
       "    </tr>\n",
       "    <tr>\n",
       "      <th>1</th>\n",
       "      <td>эти состояния называют фазами воды а превращен...</td>\n",
       "      <td>0</td>\n",
       "      <td>0</td>\n",
       "      <td>0</td>\n",
       "      <td>0</td>\n",
       "      <td>0</td>\n",
       "      <td>0</td>\n",
       "      <td>0</td>\n",
       "    </tr>\n",
       "    <tr>\n",
       "      <th>2</th>\n",
       "      <td>и должен ни единой долькой  не отступаться от ...</td>\n",
       "      <td>1</td>\n",
       "      <td>0</td>\n",
       "      <td>0</td>\n",
       "      <td>0</td>\n",
       "      <td>0</td>\n",
       "      <td>0</td>\n",
       "      <td>0</td>\n",
       "    </tr>\n",
       "    <tr>\n",
       "      <th>3</th>\n",
       "      <td>он потребовал обеспечить полное осуществление ...</td>\n",
       "      <td>0</td>\n",
       "      <td>0</td>\n",
       "      <td>0</td>\n",
       "      <td>0</td>\n",
       "      <td>0</td>\n",
       "      <td>0</td>\n",
       "      <td>0</td>\n",
       "    </tr>\n",
       "    <tr>\n",
       "      <th>4</th>\n",
       "      <td>по мнению местного пастора элла эбанкса запрет...</td>\n",
       "      <td>0</td>\n",
       "      <td>0</td>\n",
       "      <td>0</td>\n",
       "      <td>0</td>\n",
       "      <td>0</td>\n",
       "      <td>0</td>\n",
       "      <td>0</td>\n",
       "    </tr>\n",
       "  </tbody>\n",
       "</table>\n",
       "</div>"
      ],
      "text/plain": [
       "                                                text  class_ cV cR1 cR2  V R1  \\\n",
       "0  изобретение относится к судостроению и касаетс...       0  0   0   0  0  0   \n",
       "1  эти состояния называют фазами воды а превращен...       0  0   0   0  0  0   \n",
       "2  и должен ни единой долькой  не отступаться от ...       1  0   0   0  0  0   \n",
       "3  он потребовал обеспечить полное осуществление ...       0  0   0   0  0  0   \n",
       "4  по мнению местного пастора элла эбанкса запрет...       0  0   0   0  0  0   \n",
       "\n",
       "  R2  \n",
       "0  0  \n",
       "1  0  \n",
       "2  0  \n",
       "3  0  \n",
       "4  0  "
      ]
     },
     "execution_count": 213,
     "metadata": {},
     "output_type": "execute_result"
    }
   ],
   "source": [
    "output.head()"
   ]
  },
  {
   "cell_type": "code",
   "execution_count": 214,
   "metadata": {},
   "outputs": [],
   "source": [
    "output.to_csv(r'output.csv', sep='\\t')"
   ]
  },
  {
   "cell_type": "code",
   "execution_count": 215,
   "metadata": {},
   "outputs": [
    {
     "name": "stdout",
     "output_type": "stream",
     "text": [
      "Binary classification quality (f1-score): 0.24489795918367344\r\n",
      "Other metrics: \r\n",
      " Precision: 0.28628230616302186\r\n",
      " Recall: 0.2139673105497771\r\n"
     ]
    }
   ],
   "source": [
    "! python3 agrr_metrics.py -b test_.csv output.csv"
   ]
  },
  {
   "cell_type": "markdown",
   "metadata": {},
   "source": [
    "Well, just awful. That must be the result of too much of normalization and lack of postags, so we'll try to prepare data differently."
   ]
  },
  {
   "cell_type": "markdown",
   "metadata": {},
   "source": [
    "# 7. Классификация последовательности"
   ]
  },
  {
   "cell_type": "code",
   "execution_count": 490,
   "metadata": {},
   "outputs": [],
   "source": [
    "train_encoded = IOB_encoder(train)"
   ]
  },
  {
   "cell_type": "code",
   "execution_count": 492,
   "metadata": {},
   "outputs": [
    {
     "data": {
      "text/plain": [
       "16406"
      ]
     },
     "execution_count": 492,
     "metadata": {},
     "output_type": "execute_result"
    }
   ],
   "source": [
    "len(train_encoded)"
   ]
  },
  {
   "cell_type": "code",
   "execution_count": 493,
   "metadata": {},
   "outputs": [
    {
     "data": {
      "text/plain": [
       "15896"
      ]
     },
     "execution_count": 493,
     "metadata": {},
     "output_type": "execute_result"
    }
   ],
   "source": [
    "#Filter from train_encoded those sentences that are too long.\n",
    "for sent in to_filter:to_filter = [train_encoded[i] for i in range(len(train))if i not in text_index]\n",
    "    train_encoded.remove(sent)\n",
    "len(train_encoded)"
   ]
  },
  {
   "cell_type": "code",
   "execution_count": 489,
   "metadata": {},
   "outputs": [
    {
     "data": {
      "text/plain": [
       "{'Будучи': 'O',\n",
       " 'в': 'O',\n",
       " 'прошлый': 'O',\n",
       " 'четверг': 'O',\n",
       " 'Софии,': 'O',\n",
       " 'он': 'O',\n",
       " 'назвал': 'O',\n",
       " 'себя': 'O',\n",
       " \"'наполовину\": 'O',\n",
       " \"восточноевропейцем',\": 'O',\n",
       " 'и': 'O',\n",
       " 'за': 'O',\n",
       " 'последние': 'O',\n",
       " 'пять': 'O',\n",
       " 'дней': 'O',\n",
       " 'успел': 'O',\n",
       " 'принять': 'O',\n",
       " 'у': 'O',\n",
       " 'лидеров': 'O',\n",
       " 'Украины,': 'O',\n",
       " 'Польши': 'O',\n",
       " 'Чехии': 'O'}"
      ]
     },
     "execution_count": 489,
     "metadata": {},
     "output_type": "execute_result"
    }
   ],
   "source": [
    "train_encoded[0]"
   ]
  },
  {
   "cell_type": "code",
   "execution_count": 87,
   "metadata": {},
   "outputs": [],
   "source": [
    "def process_encoded(encoded):\n",
    "    sentences = []\n",
    "    IOBs = []\n",
    "    \n",
    "    ru = ' йцукенгшщзхъфывапролджэячсмитьбюё'\n",
    "    for sent in encoded:\n",
    "        words_list = []\n",
    "        IOB_list = []\n",
    "        for phrase in sent:\n",
    "            IOB_current = sent[phrase]\n",
    "            phrase = ''.join([letter for letter in phrase if letter in ru])\n",
    "            words = word_tokenize(phrase)\n",
    "            leng = words\n",
    "            for word in words:\n",
    "                words_list.append(word)\n",
    "                IOB_list.append(IOB_current)\n",
    "            \n",
    "        sentences.append(words_list)\n",
    "        IOBs.append(IOB_list)\n",
    "    \n",
    "    \n",
    "    \n",
    "    return sentences, IOBs\n",
    "\n",
    "train_sent, train_IOB = process_encoded(train_encoded)"
   ]
  },
  {
   "cell_type": "code",
   "execution_count": 94,
   "metadata": {},
   "outputs": [],
   "source": [
    "def make_IOB_index(encoded):\n",
    "    '''\n",
    "    Create a vocabulary for label indexing.\n",
    "    '''\n",
    "    IOB_index = {}\n",
    "    n = 0\n",
    "    for i in encoded:\n",
    "        for j in i.values():\n",
    "            if j not in IOB_index:\n",
    "                IOB_index[j] = n\n",
    "                n += 1\n",
    "    \n",
    "    return IOB_index\n",
    "\n",
    "IOB_index = make_IOB_index(train_encoded)"
   ]
  },
  {
   "cell_type": "code",
   "execution_count": 183,
   "metadata": {},
   "outputs": [],
   "source": [
    "import numpy as np\n",
    "def labels_IOB(IOB, MAX_length, IOB_index):\n",
    "    '''\n",
    "    Create a list of lists representing the IOB properties of each word.\n",
    "    '''\n",
    "    labels = []\n",
    "    for i in range(len(IOB)):\n",
    "        add = [0]*MAX_length\n",
    "        for j in range(len(IOB[i])):\n",
    "            add[j] = IOB_index[IOB[i][j]]\n",
    "        labels.append(add)\n",
    "        \n",
    "    return labels\n",
    "\n",
    "IOB_train_labels = labels_IOB(train_IOB, 50, IOB_index)"
   ]
  },
  {
   "cell_type": "markdown",
   "metadata": {},
   "source": [
    "Now we build the model."
   ]
  },
  {
   "cell_type": "code",
   "execution_count": 176,
   "metadata": {},
   "outputs": [
    {
     "name": "stdout",
     "output_type": "stream",
     "text": [
      "_________________________________________________________________\n",
      "Layer (type)                 Output Shape              Param #   \n",
      "=================================================================\n",
      "embedding_12 (Embedding)     (None, 50, 128)           8142848   \n",
      "_________________________________________________________________\n",
      "bidirectional_2 (Bidirection (None, 50, 512)           788480    \n",
      "_________________________________________________________________\n",
      "time_distributed_2 (TimeDist (None, 50, 9)             4617      \n",
      "_________________________________________________________________\n",
      "activation_2 (Activation)    (None, 50, 9)             0         \n",
      "=================================================================\n",
      "Total params: 8,935,945\n",
      "Trainable params: 8,935,945\n",
      "Non-trainable params: 0\n",
      "_________________________________________________________________\n"
     ]
    }
   ],
   "source": [
    "from keras.layers import Dense, LSTM, InputLayer, Bidirectional, TimeDistributed, Embedding, Activation\n",
    "from keras.optimizers import Adam\n",
    "\n",
    "model = Sequential()\n",
    "model.add(InputLayer(input_shape=(MAX_length, )))\n",
    "model.add(Embedding(vocab_size, 128))\n",
    "model.add(Bidirectional(LSTM(256, return_sequences=True)))\n",
    "model.add(TimeDistributed(Dense(len(IOB_index))))\n",
    "model.add(Activation('softmax'))\n",
    " \n",
    "model.compile(loss='categorical_crossentropy',\n",
    "              optimizer=Adam(0.001),\n",
    "              metrics=['accuracy'])\n",
    " \n",
    "model.summary()\n",
    " "
   ]
  },
  {
   "cell_type": "code",
   "execution_count": 185,
   "metadata": {},
   "outputs": [],
   "source": [
    "def to_categorical(sequences, categories):\n",
    "    '''\n",
    "    Turn the index-encoding for labels into categorical-encoding.\n",
    "    '''\n",
    "    cat_sequences = []\n",
    "    for s in sequences:\n",
    "        cats = []\n",
    "        for item in s:\n",
    "            cats.append(np.zeros(categories))\n",
    "            cats[-1][item] = 1.0\n",
    "        cat_sequences.append(cats)\n",
    "    return np.array(cat_sequences)"
   ]
  },
  {
   "cell_type": "code",
   "execution_count": 258,
   "metadata": {},
   "outputs": [],
   "source": [
    "cat_train_tags_y = to_categorical(IOB_train_labels, len(IOB_index))"
   ]
  },
  {
   "cell_type": "code",
   "execution_count": 189,
   "metadata": {},
   "outputs": [
    {
     "name": "stdout",
     "output_type": "stream",
     "text": [
      "WARNING:tensorflow:From C:\\NonSystem\\Anaconda3\\lib\\site-packages\\tensorflow\\python\\ops\\math_grad.py:102: div (from tensorflow.python.ops.math_ops) is deprecated and will be removed in a future version.\n",
      "Instructions for updating:\n",
      "Deprecated in favor of operator or tf.math.divide.\n",
      "Train on 12716 samples, validate on 3180 samples\n",
      "Epoch 1/50\n",
      "12716/12716 [==============================] - 60s 5ms/step - loss: 0.3972 - acc: 0.9200 - val_loss: 0.2671 - val_acc: 0.9267\n",
      "Epoch 2/50\n",
      "12716/12716 [==============================] - 58s 5ms/step - loss: 0.2235 - acc: 0.9311 - val_loss: 0.2483 - val_acc: 0.9243\n",
      "Epoch 3/50\n",
      "12716/12716 [==============================] - 59s 5ms/step - loss: 0.1547 - acc: 0.9461 - val_loss: 0.2668 - val_acc: 0.9307\n",
      "Epoch 4/50\n",
      "12716/12716 [==============================] - 59s 5ms/step - loss: 0.1220 - acc: 0.9573 - val_loss: 0.2838 - val_acc: 0.9321\n",
      "Epoch 5/50\n",
      "12716/12716 [==============================] - 60s 5ms/step - loss: 0.1042 - acc: 0.9640 - val_loss: 0.3289 - val_acc: 0.9275\n",
      "Epoch 6/50\n",
      "12716/12716 [==============================] - 60s 5ms/step - loss: 0.0921 - acc: 0.9676 - val_loss: 0.3537 - val_acc: 0.9286\n",
      "Epoch 7/50\n",
      "12716/12716 [==============================] - 59s 5ms/step - loss: 0.0833 - acc: 0.9702 - val_loss: 0.3988 - val_acc: 0.9262\n",
      "Epoch 8/50\n",
      "12716/12716 [==============================] - 60s 5ms/step - loss: 0.0769 - acc: 0.9723 - val_loss: 0.4124 - val_acc: 0.9218\n",
      "Epoch 9/50\n",
      "12716/12716 [==============================] - 60s 5ms/step - loss: 0.0691 - acc: 0.9751 - val_loss: 0.4350 - val_acc: 0.9159\n",
      "Epoch 10/50\n",
      "12716/12716 [==============================] - 60s 5ms/step - loss: 0.0631 - acc: 0.9775 - val_loss: 0.4507 - val_acc: 0.9219\n",
      "Epoch 11/50\n",
      "12716/12716 [==============================] - 60s 5ms/step - loss: 0.0570 - acc: 0.9796 - val_loss: 0.4908 - val_acc: 0.9214\n",
      "Epoch 12/50\n",
      "12716/12716 [==============================] - 60s 5ms/step - loss: 0.0502 - acc: 0.9821 - val_loss: 0.5292 - val_acc: 0.9144\n",
      "Epoch 13/50\n",
      "12716/12716 [==============================] - 60s 5ms/step - loss: 0.0440 - acc: 0.9845 - val_loss: 0.5317 - val_acc: 0.9199\n",
      "Epoch 14/50\n",
      "12716/12716 [==============================] - 60s 5ms/step - loss: 0.0390 - acc: 0.9866 - val_loss: 0.5541 - val_acc: 0.9164\n",
      "Epoch 15/50\n",
      "12716/12716 [==============================] - 60s 5ms/step - loss: 0.0331 - acc: 0.9889 - val_loss: 0.5786 - val_acc: 0.9122\n",
      "Epoch 16/50\n",
      "12716/12716 [==============================] - 60s 5ms/step - loss: 0.0287 - acc: 0.9905 - val_loss: 0.5762 - val_acc: 0.9173\n",
      "Epoch 17/50\n",
      "12716/12716 [==============================] - 58s 5ms/step - loss: 0.0248 - acc: 0.9920 - val_loss: 0.5895 - val_acc: 0.9169\n",
      "Epoch 18/50\n",
      "12716/12716 [==============================] - 57s 4ms/step - loss: 0.0191 - acc: 0.9941 - val_loss: 0.6262 - val_acc: 0.9155\n",
      "Epoch 19/50\n",
      "12716/12716 [==============================] - 58s 5ms/step - loss: 0.0152 - acc: 0.9954 - val_loss: 0.6581 - val_acc: 0.9163\n",
      "Epoch 20/50\n",
      "12716/12716 [==============================] - 60s 5ms/step - loss: 0.0126 - acc: 0.9963 - val_loss: 0.6917 - val_acc: 0.9156\n",
      "Epoch 21/50\n",
      "12716/12716 [==============================] - 58s 5ms/step - loss: 0.0113 - acc: 0.9966 - val_loss: 0.7294 - val_acc: 0.9110\n",
      "Epoch 22/50\n",
      "12716/12716 [==============================] - 59s 5ms/step - loss: 0.0101 - acc: 0.9970 - val_loss: 0.7211 - val_acc: 0.9082\n",
      "Epoch 23/50\n",
      "12716/12716 [==============================] - 60s 5ms/step - loss: 0.0078 - acc: 0.9979 - val_loss: 0.7528 - val_acc: 0.9113\n",
      "Epoch 24/50\n",
      "12716/12716 [==============================] - 58s 5ms/step - loss: 0.0062 - acc: 0.9984 - val_loss: 0.7898 - val_acc: 0.9067\n",
      "Epoch 25/50\n",
      "12716/12716 [==============================] - 60s 5ms/step - loss: 0.0061 - acc: 0.9983 - val_loss: 0.7839 - val_acc: 0.9088\n",
      "Epoch 26/50\n",
      "12716/12716 [==============================] - 59s 5ms/step - loss: 0.0064 - acc: 0.9982 - val_loss: 0.7696 - val_acc: 0.9108\n",
      "Epoch 27/50\n",
      "12716/12716 [==============================] - 58s 5ms/step - loss: 0.0062 - acc: 0.9982 - val_loss: 0.7411 - val_acc: 0.9158\n",
      "Epoch 28/50\n",
      "12716/12716 [==============================] - 59s 5ms/step - loss: 0.0043 - acc: 0.9989 - val_loss: 0.7736 - val_acc: 0.9134\n",
      "Epoch 29/50\n",
      "12716/12716 [==============================] - 59s 5ms/step - loss: 0.0029 - acc: 0.9993 - val_loss: 0.8080 - val_acc: 0.9107\n",
      "Epoch 30/50\n",
      "12716/12716 [==============================] - 58s 5ms/step - loss: 0.0022 - acc: 0.9995 - val_loss: 0.8520 - val_acc: 0.9086\n",
      "Epoch 31/50\n",
      "12716/12716 [==============================] - 58s 5ms/step - loss: 0.0019 - acc: 0.9996 - val_loss: 0.8150 - val_acc: 0.9152\n",
      "Epoch 32/50\n",
      "12716/12716 [==============================] - 58s 5ms/step - loss: 0.0018 - acc: 0.9996 - val_loss: 0.8265 - val_acc: 0.9129\n",
      "Epoch 33/50\n",
      "12716/12716 [==============================] - 59s 5ms/step - loss: 0.0016 - acc: 0.9997 - val_loss: 0.8534 - val_acc: 0.9131\n",
      "Epoch 34/50\n",
      "12716/12716 [==============================] - 58s 5ms/step - loss: 0.0017 - acc: 0.9996 - val_loss: 0.8589 - val_acc: 0.9110\n",
      "Epoch 35/50\n",
      "12716/12716 [==============================] - 58s 5ms/step - loss: 0.0018 - acc: 0.9996 - val_loss: 0.8712 - val_acc: 0.9069\n",
      "Epoch 36/50\n",
      "12716/12716 [==============================] - 58s 5ms/step - loss: 0.0023 - acc: 0.9995 - val_loss: 0.8188 - val_acc: 0.9165\n",
      "Epoch 37/50\n",
      "12716/12716 [==============================] - 58s 5ms/step - loss: 0.0055 - acc: 0.9985 - val_loss: 0.7812 - val_acc: 0.9097\n",
      "Epoch 38/50\n",
      "12716/12716 [==============================] - 58s 5ms/step - loss: 0.0049 - acc: 0.9986 - val_loss: 0.7532 - val_acc: 0.9192\n",
      "Epoch 39/50\n",
      "12716/12716 [==============================] - 59s 5ms/step - loss: 0.0032 - acc: 0.9992 - val_loss: 0.8077 - val_acc: 0.9079\n",
      "Epoch 40/50\n",
      "12716/12716 [==============================] - 59s 5ms/step - loss: 0.0017 - acc: 0.9996 - val_loss: 0.8030 - val_acc: 0.9178\n",
      "Epoch 41/50\n",
      "12716/12716 [==============================] - 59s 5ms/step - loss: 0.0014 - acc: 0.9997 - val_loss: 0.8309 - val_acc: 0.9088\n",
      "Epoch 42/50\n",
      "12716/12716 [==============================] - 59s 5ms/step - loss: 0.0012 - acc: 0.9998 - val_loss: 0.8323 - val_acc: 0.9148\n",
      "Epoch 43/50\n",
      "12716/12716 [==============================] - 59s 5ms/step - loss: 9.5359e-04 - acc: 0.9998 - val_loss: 0.8222 - val_acc: 0.9190\n",
      "Epoch 44/50\n",
      "12716/12716 [==============================] - 59s 5ms/step - loss: 6.6173e-04 - acc: 0.9999 - val_loss: 0.8934 - val_acc: 0.9061\n",
      "Epoch 45/50\n",
      "12716/12716 [==============================] - 59s 5ms/step - loss: 5.9667e-04 - acc: 0.9999 - val_loss: 0.8612 - val_acc: 0.9128\n",
      "Epoch 46/50\n",
      "12716/12716 [==============================] - 59s 5ms/step - loss: 5.5407e-04 - acc: 0.9999 - val_loss: 0.8731 - val_acc: 0.9138\n",
      "Epoch 47/50\n",
      "12716/12716 [==============================] - 59s 5ms/step - loss: 5.6063e-04 - acc: 0.9999 - val_loss: 0.8909 - val_acc: 0.9114\n",
      "Epoch 48/50\n",
      "12716/12716 [==============================] - 59s 5ms/step - loss: 5.1039e-04 - acc: 0.9999 - val_loss: 0.8680 - val_acc: 0.9144\n",
      "Epoch 49/50\n",
      "12716/12716 [==============================] - 59s 5ms/step - loss: 3.9279e-04 - acc: 0.9999 - val_loss: 0.8947 - val_acc: 0.9122\n",
      "Epoch 50/50\n",
      "12716/12716 [==============================] - 59s 5ms/step - loss: 4.1597e-04 - acc: 0.9999 - val_loss: 0.8731 - val_acc: 0.9164\n"
     ]
    },
    {
     "data": {
      "text/plain": [
       "<keras.callbacks.History at 0x1d69feab588>"
      ]
     },
     "execution_count": 189,
     "metadata": {},
     "output_type": "execute_result"
    }
   ],
   "source": [
    "model.fit(padded_docs, cat_train_tags_y, epochs=50, batch_size=128, validation_split=0.2)"
   ]
  },
  {
   "cell_type": "code",
   "execution_count": 195,
   "metadata": {},
   "outputs": [],
   "source": [
    "model.save('IOB.model')"
   ]
  },
  {
   "cell_type": "code",
   "execution_count": 216,
   "metadata": {},
   "outputs": [
    {
     "name": "stdout",
     "output_type": "stream",
     "text": [
      "WARNING:tensorflow:From /Library/Frameworks/Python.framework/Versions/3.6/lib/python3.6/site-packages/tensorflow/python/ops/math_grad.py:102: div (from tensorflow.python.ops.math_ops) is deprecated and will be removed in a future version.\n",
      "Instructions for updating:\n",
      "Deprecated in favor of operator or tf.math.divide.\n"
     ]
    }
   ],
   "source": [
    "model = load_model('IOB.model')"
   ]
  },
  {
   "cell_type": "markdown",
   "metadata": {},
   "source": [
    "# 8. Оценка результатов полной разметки"
   ]
  },
  {
   "cell_type": "code",
   "execution_count": 217,
   "metadata": {},
   "outputs": [],
   "source": [
    "test_encoded = IOB_encoder(test)"
   ]
  },
  {
   "cell_type": "code",
   "execution_count": 218,
   "metadata": {},
   "outputs": [],
   "source": [
    "to_filter = [test_encoded[i] for i in range(len(test))if i not in text_index_test]\n",
    "for sent in to_filter:\n",
    "    test_encoded.remove(sent)"
   ]
  },
  {
   "cell_type": "code",
   "execution_count": 219,
   "metadata": {},
   "outputs": [
    {
     "ename": "NameError",
     "evalue": "name 'process_encoded' is not defined",
     "output_type": "error",
     "traceback": [
      "\u001b[0;31m---------------------------------------------------------------------------\u001b[0m",
      "\u001b[0;31mNameError\u001b[0m                                 Traceback (most recent call last)",
      "\u001b[0;32m<ipython-input-219-949ecc93b9a8>\u001b[0m in \u001b[0;36m<module>\u001b[0;34m\u001b[0m\n\u001b[0;32m----> 1\u001b[0;31m \u001b[0mtest_sent\u001b[0m\u001b[0;34m,\u001b[0m \u001b[0mtest_IOB\u001b[0m \u001b[0;34m=\u001b[0m \u001b[0mprocess_encoded\u001b[0m\u001b[0;34m(\u001b[0m\u001b[0mtest_encoded\u001b[0m\u001b[0;34m)\u001b[0m\u001b[0;34m\u001b[0m\u001b[0;34m\u001b[0m\u001b[0m\n\u001b[0m",
      "\u001b[0;31mNameError\u001b[0m: name 'process_encoded' is not defined"
     ]
    }
   ],
   "source": [
    "test_sent, test_IOB = process_encoded(test_encoded)"
   ]
  },
  {
   "cell_type": "code",
   "execution_count": 199,
   "metadata": {},
   "outputs": [],
   "source": [
    "IOB_test_labels = labels_IOB(test_IOB, 50, IOB_index)"
   ]
  },
  {
   "cell_type": "code",
   "execution_count": 194,
   "metadata": {},
   "outputs": [],
   "source": [
    "cat_test_tags_y = to_categorical(IOB_test_labels, len(IOB_index))"
   ]
  },
  {
   "cell_type": "code",
   "execution_count": 201,
   "metadata": {},
   "outputs": [
    {
     "name": "stdout",
     "output_type": "stream",
     "text": [
      "1994/1994 [==============================] - 3s 1ms/step\n",
      "acc: 92.1985959337133\n"
     ]
    }
   ],
   "source": [
    "scores = model.evaluate(padded_test, cat_test_tags_y)\n",
    "print(f\"{model.metrics_names[1]}: {scores[1] * 100}\")"
   ]
  },
  {
   "cell_type": "markdown",
   "metadata": {},
   "source": [
    "The achieved accuracy is 92.2%. The next step is to make a prediction."
   ]
  },
  {
   "cell_type": "code",
   "execution_count": 224,
   "metadata": {},
   "outputs": [],
   "source": [
    "predictions = model.predict(padded_test)"
   ]
  },
  {
   "cell_type": "code",
   "execution_count": 227,
   "metadata": {},
   "outputs": [],
   "source": [
    "def logits_to_tokens(sequences, index):\n",
    "    token_sequences = []\n",
    "    for categorical_sequence in sequences:\n",
    "        token_sequence = []\n",
    "        for categorical in categorical_sequence:\n",
    "            token_sequence.append(index[np.argmax(categorical)])\n",
    " \n",
    "        token_sequences.append(token_sequence)\n",
    " \n",
    "    return token_sequences"
   ]
  },
  {
   "cell_type": "code",
   "execution_count": 229,
   "metadata": {},
   "outputs": [],
   "source": [
    "pred_results = logits_to_tokens(predictions, {i: t for t, i in IOB_index.items()})"
   ]
  },
  {
   "cell_type": "code",
   "execution_count": 262,
   "metadata": {},
   "outputs": [],
   "source": [
    "index = 1"
   ]
  },
  {
   "cell_type": "code",
   "execution_count": 270,
   "metadata": {},
   "outputs": [
    {
     "name": "stdout",
     "output_type": "stream",
     "text": [
      "The original word bag: ['называют', 'ти', 'состояния', 'фазами', 'воды', 'превращения', 'из', 'одного', 'состояния', 'в', 'другое', 'фазовыми', 'переходами', 'а']\n",
      "The original IOB properties: ['B-cV', 'B-cR1', 'B-cR1', 'B-cR2', 'I-cR2', 'B-R1', 'B-R1', 'B-R1', 'B-R1', 'B-R1', 'B-R1', 'B-R2', 'I-R2', 'O']\n",
      "The predicted IOB: ['B-cV', 'B-cR1', 'B-cR1', 'I-cR2', 'B-R1', 'B-R1', 'B-R1', 'I-R2', 'O', 'O', 'O', 'O', 'O', 'O', 'O', 'O', 'O', 'O', 'O', 'O', 'O', 'O', 'O', 'O', 'O', 'O', 'O', 'O', 'O', 'O', 'O', 'O', 'O', 'O', 'O', 'O', 'O', 'O', 'O', 'O', 'O', 'O', 'O', 'O', 'O', 'O', 'O', 'O', 'O', 'O']\n"
     ]
    }
   ],
   "source": [
    "print('The original word bag:', test_sent[index])\n",
    "print('The original IOB properties:', test_IOB[index])\n",
    "print('The predicted IOB:', pred_results[index])\n"
   ]
  },
  {
   "cell_type": "markdown",
   "metadata": {},
   "source": [
    "We can see that the sequence of prediction is fairly similar. If one word is predicted wrong, the chain effect will probably make the predictions for the following words wrong."
   ]
  },
  {
   "cell_type": "markdown",
   "metadata": {},
   "source": [
    "# 9. Анализ результатов"
   ]
  },
  {
   "cell_type": "code",
   "execution_count": null,
   "metadata": {},
   "outputs": [],
   "source": []
  }
 ],
 "metadata": {
  "kernelspec": {
   "display_name": "Python 3",
   "language": "python",
   "name": "python3"
  },
  "language_info": {
   "codemirror_mode": {
    "name": "ipython",
    "version": 3
   },
   "file_extension": ".py",
   "mimetype": "text/x-python",
   "name": "python",
   "nbconvert_exporter": "python",
   "pygments_lexer": "ipython3",
   "version": "3.6.8"
  }
 },
 "nbformat": 4,
 "nbformat_minor": 2
}
